{
 "cells": [
  {
   "cell_type": "markdown",
   "metadata": {},
   "source": [
    "# BC-Mux remote control with Python\n",
    "\n",
    "This example shows how to switch the battery multiplexer [BC-Mux](https://zahner.de/products-details/multiplexer/bc-mux) between its 16 channels."
   ]
  },
  {
   "cell_type": "code",
   "execution_count": 1,
   "metadata": {},
   "outputs": [],
   "source": [
    "import socket"
   ]
  },
  {
   "cell_type": "markdown",
   "metadata": {},
   "source": [
    "# BC-Mux control class\n",
    "\n",
    "The following code section is the BCMuxInterface class which must be used to control the BC-Mux. This class can be easily imported from other Python modules.\n",
    "\n",
    "The rendered [API documentation is linked](https://doc.zahner.de/thales_remote/bc_mux_interface.html)."
   ]
  },
  {
   "cell_type": "code",
   "execution_count": 3,
   "metadata": {},
   "outputs": [],
   "source": [
    "class BCMuxInterface:\n",
    "    \"\"\"BC-Mux control class.\n",
    "\n",
    "    With this class the `BC-MUX Multiplexer <https://zahner.de/products-details/multiplexer/bc-mux>`_ can\n",
    "    be controlled remotely without the BC-Mux Controller software.\n",
    "\n",
    "    The USB interface of the BC Mux is not supported by Python. Also the network settings must be\n",
    "    done with the program BC-Mux Network Config before using python.\n",
    "\n",
    "    The BC-MUX is an extension which makes it possible to separate up to 16 channels of a cyclizer\n",
    "    individually with switch boxes from the cyclizer and to switch them to the Zennium for e.g.\n",
    "    impedance measurements. This allows the cyclizer to be extended up to 16 channels with sequential\n",
    "    impedance measurements. Only one channel at a time can be switched to the Zennium for a measurement,\n",
    "    no parallel impedance measurements are possible.\n",
    "\n",
    "    This class makes it possible to control the Zennium and the Multiplexer from one Python instance\n",
    "    via Remote2, which makes the use more flexible than with the BC-Mux Controller.\n",
    "    Also, if the cyclizer supports it, the complete system can be controlled from a single Python software.\n",
    "\n",
    "    :param ip: SerialCommandInterface object to control the device.\n",
    "    :type ip: str\n",
    "    :param port: SerialDataInterface object for online data.\n",
    "    :type port: int\n",
    "    \"\"\"\n",
    "\n",
    "    BUFFER_SIZE = 1024\n",
    "\n",
    "    def __init__(self, ip, port):\n",
    "        self.socket = socket.socket(socket.AF_INET, socket.SOCK_STREAM)\n",
    "        self.ip = ip\n",
    "        self.port = port\n",
    "        self.socket.connect((self.ip, self.port))\n",
    "        return\n",
    "\n",
    "    def close(self):\n",
    "        \"\"\"Closing the connection.\n",
    "\n",
    "        Disconnects the TCP/IP connection to the BC-MUX.\n",
    "        \"\"\"\n",
    "        self.socket.close()\n",
    "        return\n",
    "\n",
    "    def connectChannel(self, channel):\n",
    "        \"\"\"Connects the channel to the zennium.\n",
    "\n",
    "        With this command, a channel is disconnected from the cyclizer and switched to the Zennium,\n",
    "        for example for impedance measurements.\n",
    "\n",
    "        :param channel: The channel to connect to the zennium.\n",
    "        :returns: The response string from the device.\n",
    "        :rtype: string\n",
    "        \"\"\"\n",
    "        command = \"ch {}\"\n",
    "        return self._executeCommandAndReadReply(command.format(channel))\n",
    "\n",
    "    def disconnectChannel(self):\n",
    "        \"\"\"Disconnects all channels from the zennium.\n",
    "\n",
    "        All channels are disconnected from the Zennium and switched to the specific cyclizer channel.\n",
    "\n",
    "        :returns: The response string from the device.\n",
    "        :rtype: string\n",
    "        \"\"\"\n",
    "        command = \"ch 0\"\n",
    "        return self._executeCommandAndReadReply(command)\n",
    "\n",
    "    def setPulseLength(self, length):\n",
    "        \"\"\"Setting the relais control.\n",
    "\n",
    "        The BC-MUX supports switchboxes containing monostable or bistable relais. With this command,\n",
    "        the control of the relais is set.\n",
    "\n",
    "        If a number other than 0 is set, the relay is switched with a pulse.\n",
    "        The pulse is then the number in milliseconds long.\n",
    "\n",
    "        :param length: The length of the switching pulse in milliseconds. 0 for monostable relays.\n",
    "        :returns: The response string from the device.\n",
    "        :rtype: string\n",
    "        \"\"\"\n",
    "        command = \"puls {}\"\n",
    "        return self._executeCommandAndReadReply(command.format(length))\n",
    "\n",
    "    def _executeCommandAndReadReply(self, command):\n",
    "        \"\"\"Private function to send a command to the device and read a string.\n",
    "\n",
    "        This command sends the command to the device and returns the response from the device.\n",
    "\n",
    "        :returns: Response string from the device.\n",
    "        :rtype: string\n",
    "        \"\"\"\n",
    "        command += \"\\r\\n\"\n",
    "        self.socket.send(command.encode(\"utf-8\"))\n",
    "        data = self.socket.recv(BCMuxInterface.BUFFER_SIZE)\n",
    "        return data.decode(\"utf-8\")"
   ]
  },
  {
   "cell_type": "markdown",
   "metadata": {},
   "source": [
    "# Use of BC-Mux control class\n",
    "\n",
    "In the following example, the BC-Mux is switched to each channel one time.\n",
    "\n",
    "The IP address of the BC-Mux must be specified with the variable TCP_IP. The port is always 4223.\n",
    "\n",
    "Selecting channel 0 would mean not switching any channel to the Zennium."
   ]
  },
  {
   "cell_type": "code",
   "execution_count": 4,
   "metadata": {},
   "outputs": [],
   "source": [
    "if __name__ == \"__main__\":\n",
    "    TCP_IP = \"169.169.169.169\"\n",
    "    TCP_PORT = 4223\n",
    "\n",
    "    bcMux = BCMuxInterface(TCP_IP, TCP_PORT)\n",
    "\n",
    "    bcMux.setPulseLength(250)\n",
    "    bcMux.disconnectChannel()\n",
    "\n",
    "    for i in range(16):\n",
    "        print(f\"Channel: {i+1}\")\n",
    "        bcMux.connectChannel(i + 1)\n",
    "        bcMux.disconnectChannel()\n",
    "\n",
    "    bcMux.close()\n",
    "\n",
    "    print(\"finish\")"
   ]
  }
 ],
 "metadata": {
  "interpreter": {
   "hash": "ac59ebe37160ed0dfa835113d9b8498d9f09ceb179beaac4002f036b9467c963"
  },
  "kernelspec": {
   "display_name": "Python 3.9.7 64-bit",
   "name": "python3"
  },
  "language_info": {
   "codemirror_mode": {
    "name": "ipython",
    "version": 3
   },
   "file_extension": ".py",
   "mimetype": "text/x-python",
   "name": "python",
   "nbconvert_exporter": "python",
   "pygments_lexer": "ipython3",
   "version": "3.9.7"
  },
  "orig_nbformat": 4
 },
 "nbformat": 4,
 "nbformat_minor": 2
}
