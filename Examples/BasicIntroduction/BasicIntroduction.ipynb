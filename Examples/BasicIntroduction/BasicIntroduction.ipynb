{
 "cells": [
  {
   "cell_type": "markdown",
   "metadata": {},
   "source": [
    "# Introduction to the Python control system\n",
    "\n",
    "This example covers the basic introduction to the control of [Zahner ZENNIUM series potentiostats](https://zahner.de/products#potentiostats) with [Python](https://www.python.org/). It explains in detail how to connect to the Term Terminal Software running the Thales Workstation Software and how to perform measurements.\n",
    "\n",
    "Zahner does not offer an introduction to Python programming, but Python has a [BeginnersGuide website](https://wiki.python.org/moin/BeginnersGuide) that will help you get started quickly.\n",
    "\n",
    "There is help available for different entry levels, for [non-programmers](https://wiki.python.org/moin/BeginnersGuide/NonProgrammers) or for those with [programming experience](https://wiki.python.org/moin/BeginnersGuide/Programmers).\n",
    "Here are several tutorials for the entry level listed, such as [learnpython.org](https://www.learnpython.org/). The Python [BeginnersGuide](https://wiki.python.org/moin/BeginnersGuide) also lists different integrated development environments that can be used to edit, develop and debug the Python code. Here we can recommend [Visual Studio Code](https://code.visualstudio.com/) with the [Python extension](https://marketplace.visualstudio.com/items?itemName=ms-python.python) or Eclipse with the [PyDev extension](https://www.pydev.org/).\n",
    "\n",
    "Besides the examples in the [GitHub repository](https://github.com/Zahner-elektrik/Thales-Remote-Python) there is a [documentation page](https://doc.zahner.de/thales_remote/) where all functions of the library are explained."
   ]
  },
  {
   "cell_type": "code",
   "execution_count": 13,
   "metadata": {},
   "outputs": [],
   "source": [
    "import sys\n",
    "import math\n",
    "import cmath\n",
    "from thales_remote.connection import ThalesRemoteConnection\n",
    "from thales_remote.script_wrapper import PotentiostatMode,ThalesRemoteScriptWrapper"
   ]
  },
  {
   "cell_type": "markdown",
   "metadata": {},
   "source": [
    "# Utility functions\n",
    "\n",
    "First, two utility functions are declared.  \n",
    "With the first function the complex impedance is output to the console. The second function measures an impedance spectrum from individual impedance measuring points."
   ]
  },
  {
   "cell_type": "code",
   "execution_count": 14,
   "metadata": {},
   "outputs": [],
   "source": [
    "def printImpedance(impedance):\n",
    "    print(f\"Impedance: {abs(impedance):>10.3e} ohm {cmath.phase(impedance)/cmath.pi*180.0:>10.2f} degree\")\n",
    "    return\n",
    "\n",
    "def spectrum(scriptHandle, lower_frequency, upper_frequency, number_of_points):\n",
    "    log_lower_frequency = math.log(lower_frequency)\n",
    "    log_upper_frequency = math.log(upper_frequency)\n",
    "    log_interval_spacing = (log_upper_frequency - log_lower_frequency) / (number_of_points - 1)\n",
    "    \n",
    "    for i in range(number_of_points):\n",
    "        current_frequency = math.exp(log_lower_frequency + log_interval_spacing * i)\n",
    "        print(f\"Frequency: {current_frequency:e} Hz\")\n",
    "        printImpedance(scriptHandle.getImpedance(current_frequency))\n",
    "        \n",
    "    return"
   ]
  },
  {
   "cell_type": "markdown",
   "metadata": {},
   "source": [
    "# Connect to the Term software\n",
    "\n",
    "Before calling the following commands, the Term software must be started and the Thales start screen must be displayed, in which methods can be selected.\n",
    "\n",
    "In this case the Term runs on the same computer as Python, so **\"localhost\"** is chosen here as IP address, but you could also specify the IP address of the computer in the network, on which the Term software is running and to which the workstation is connected via USB."
   ]
  },
  {
   "cell_type": "code",
   "execution_count": null,
   "metadata": {},
   "outputs": [],
   "source": [
    "TARGET_HOST = \"localhost\"\n",
    "\n",
    "if __name__ == \"__main__\":\n",
    "    zenniumConnection = ThalesRemoteConnection()\n",
    "    zenniumConnection.connectToTerm(TARGET_HOST)"
   ]
  },
  {
   "cell_type": "markdown",
   "metadata": {},
   "source": [
    "# Initialize the application and start the remote software in Thales\n",
    "\n",
    "If the connection to the Term is successfully established, the [ThalesRemoteConnection](https://doc.zahner.de/thales_remote/connection.html#thales_remote.connection.ThalesRemoteConnection) object manages the connection to the Term software. This object is passed to the constructor of a new [ThalesRemoteScriptWrapper](https://doc.zahner.de/thales_remote/script_wrapper.html#thales_remote.script_wrapper.ThalesRemoteScriptWrapper) object.\n",
    "\n",
    "The [ThalesRemoteScriptWrapper](https://doc.zahner.de/thales_remote/script_wrapper.html#thales_remote.script_wrapper.ThalesRemoteScriptWrapper) class contains the commands of the [Remote2](https://doc.zahner.de/manuals/remote2.pdf) as [getter and setter methods](https://en.wikipedia.org/wiki/Mutator_method)."
   ]
  },
  {
   "cell_type": "code",
   "execution_count": null,
   "metadata": {},
   "outputs": [],
   "source": [
    "    zahnerZennium = ThalesRemoteScriptWrapper(zenniumConnection)\n",
    "    zahnerZennium.forceThalesIntoRemoteScript()"
   ]
  },
  {
   "cell_type": "markdown",
   "metadata": {},
   "source": [
    "# Offset calibration\n",
    "\n",
    "The first step is to perform an offset calibration, this takes only a few seconds.  \n",
    "The instrument performs automatic offset calibrations but it is recommended to calibrate the offsets manually after the instrument has warmed up for half an hour."
   ]
  },
  {
   "cell_type": "code",
   "execution_count": null,
   "metadata": {},
   "outputs": [],
   "source": [
    "    zahnerZennium.calibrateOffsets()"
   ]
  },
  {
   "cell_type": "markdown",
   "metadata": {},
   "source": [
    "# DC measurement\n",
    "\n",
    "## Potentiostatic measurement\n",
    "\n",
    "A voltage of 1.0 V is output potentiostatically as an example. For this, potentiostatic mode is set first. Then the potential is set and the potentiostat is switched on."
   ]
  },
  {
   "cell_type": "code",
   "execution_count": null,
   "metadata": {},
   "outputs": [],
   "source": [
    "    zahnerZennium.setPotentiostatMode(PotentiostatMode.POTMODE_POTENTIOSTATIC)\n",
    "    zahnerZennium.setPotential(1.0)\n",
    "    zahnerZennium.enablePotentiostat()"
   ]
  },
  {
   "cell_type": "markdown",
   "metadata": {},
   "source": [
    "After the potentiostat is switched on, voltage and current are measured several times in a loop.\n",
    "\n",
    "Here the voltage and the current are read with the getters mentioned before."
   ]
  },
  {
   "cell_type": "code",
   "execution_count": 19,
   "metadata": {},
   "outputs": [
    {
     "name": "stdout",
     "output_type": "stream",
     "text": [
      "Potential:\t  0.999884 V\n",
      "Current:\t 9.988e-09 A\n",
      "Potential:\t  0.999881 V\n",
      "Current:\t 9.988e-09 A\n",
      "Potential:\t  0.999884 V\n",
      "Current:\t 9.988e-09 A\n",
      "Potential:\t  0.999884 V\n",
      "Current:\t 9.988e-09 A\n",
      "Potential:\t  0.999882 V\n",
      "Current:\t 9.988e-09 A\n"
     ]
    }
   ],
   "source": [
    "    for i in range(5):\n",
    "        print(f\"Potential:\\t{zahnerZennium.getPotential():>10.6f} V\")\n",
    "        print(f\"Current:\\t{zahnerZennium.getCurrent():>10.3e} A\")"
   ]
  },
  {
   "cell_type": "markdown",
   "metadata": {},
   "source": [
    "## Galvanostatic measurement\n",
    "\n",
    "After the potentiostatic measurement, galvanostatic measurement is performed with 20 nA."
   ]
  },
  {
   "cell_type": "code",
   "execution_count": 20,
   "metadata": {},
   "outputs": [
    {
     "name": "stdout",
     "output_type": "stream",
     "text": [
      "Potential:\t  1.991442 V\n",
      "Current:\t 1.992e-08 A\n",
      "Potential:\t  1.984811 V\n",
      "Current:\t 1.992e-08 A\n",
      "Potential:\t  1.984946 V\n",
      "Current:\t 1.992e-08 A\n",
      "Potential:\t  1.984907 V\n",
      "Current:\t 1.992e-08 A\n",
      "Potential:\t  1.984929 V\n",
      "Current:\t 1.992e-08 A\n"
     ]
    }
   ],
   "source": [
    "    zahnerZennium.disablePotentiostat()\n",
    "    zahnerZennium.setPotentiostatMode(PotentiostatMode.POTMODE_GALVANOSTATIC)\n",
    "    zahnerZennium.setCurrent(20e-9)\n",
    "    zahnerZennium.enablePotentiostat()\n",
    "\n",
    "    for i in range(5):\n",
    "        print(f\"Potential:\\t{zahnerZennium.getPotential():>10.6f} V\")\n",
    "        print(f\"Current:\\t{zahnerZennium.getCurrent():>10.3e} A\")"
   ]
  },
  {
   "cell_type": "markdown",
   "metadata": {},
   "source": [
    "# Impedance measurement\n",
    "\n",
    "## Parameterization of the impedance measurement\n",
    "\n",
    "For the impedance measurement, the measuring frequency, the measuring amplitude and the number of periods to be averaged are now set.\n",
    "\n",
    "As explained in the [Remote2 manual on page 15](https://doc.zahner.de/manuals/remote2.pdf#page=15), after switching on the potentiostat, the current must be measured with [getCurrent()](https://doc.zahner.de/thales_remote/script_wrapper.html?highlight=getcurrent#thales_remote.script_wrapper.ThalesRemoteScriptWrapper.getCurrent), which sets the optimum current range for the impedance measurement.\n",
    "\n",
    "Likewise, an amplitude must be set for the impedance measurement. The amplitude must be switched off manually when it is not required."
   ]
  },
  {
   "cell_type": "code",
   "execution_count": null,
   "metadata": {},
   "outputs": [],
   "source": [
    "    zahnerZennium.disablePotentiostat()\n",
    "    zahnerZennium.setPotentiostatMode(PotentiostatMode.POTMODE_POTENTIOSTATIC)\n",
    "    zahnerZennium.setPotential(1.0)\n",
    "    zahnerZennium.enablePotentiostat()\n",
    "    zahnerZennium.setFrequency(2000)\n",
    "    zahnerZennium.setNumberOfPeriods(3)\n",
    "    \n",
    "    zahnerZennium.enablePotentiostat()\n",
    "    zahnerZennium.getCurrent()\n",
    "\n",
    "    zahnerZennium.setAmplitude(10e-3)"
   ]
  },
  {
   "cell_type": "markdown",
   "metadata": {},
   "source": [
    "## Execute the measurement\n",
    "\n",
    "Since the potentiostat is still switched on from the DC measurement, the impedance spectrum is now measured at the set DC potential of 1 V.\n",
    "\n",
    "<div class=\"alert alert-block alert-info\">\n",
    "<b>Note:</b> Only with impedance spectra is it possible to start a potentiostatic measurement automatically on the OCP by starting the measurement with the potentiostat switched off. For single impedance measurement points, the voltage must be measured and then set as the potentiostatic value.\n",
    "</div>\n",
    "    "
   ]
  },
  {
   "cell_type": "code",
   "execution_count": 22,
   "metadata": {},
   "outputs": [
    {
     "name": "stdout",
     "output_type": "stream",
     "text": [
      "Impedance:  5.456e+05 ohm     -89.16 degree\n",
      "Impedance:  5.442e+05 ohm     -89.20 degree\n",
      "Impedance:  5.448e+05 ohm     -89.40 degree\n",
      "Frequency: 1.000000e+03 Hz\n",
      "Impedance:  1.083e+06 ohm     -89.11 degree\n",
      "Frequency: 1.801648e+03 Hz\n",
      "Impedance:  6.043e+05 ohm     -89.33 degree\n",
      "Frequency: 3.245936e+03 Hz\n",
      "Impedance:  3.375e+05 ohm     -89.42 degree\n",
      "Frequency: 5.848035e+03 Hz\n",
      "Impedance:  1.877e+05 ohm     -89.55 degree\n",
      "Frequency: 1.053610e+04 Hz\n",
      "Impedance:  1.044e+05 ohm     -89.73 degree\n",
      "Frequency: 1.898235e+04 Hz\n",
      "Impedance:  5.807e+04 ohm     -89.84 degree\n",
      "Frequency: 3.419952e+04 Hz\n",
      "Impedance:  3.215e+04 ohm     -90.26 degree\n",
      "Frequency: 6.161550e+04 Hz\n",
      "Impedance:  1.792e+04 ohm     -91.11 degree\n",
      "Frequency: 1.110095e+05 Hz\n",
      "Impedance:  9.871e+03 ohm     -90.01 degree\n",
      "Frequency: 2.000000e+05 Hz\n",
      "Impedance:  5.607e+03 ohm     -89.05 degree\n"
     ]
    }
   ],
   "source": [
    "    printImpedance(zahnerZennium.getImpedance())\n",
    "    printImpedance(zahnerZennium.getImpedance(2000))\n",
    "    printImpedance(zahnerZennium.getImpedance(2000, 10e-3, 3))\n",
    "\n",
    "    spectrum(zahnerZennium, 1000, 2e5, 10)"
   ]
  },
  {
   "cell_type": "markdown",
   "metadata": {},
   "source": [
    "## Switch off potentiostat\n",
    "\n",
    "After the measurement, the potentiostat is switched off and **the amplitude must be set to 0** again after the impedance measurement."
   ]
  },
  {
   "cell_type": "code",
   "execution_count": null,
   "metadata": {},
   "outputs": [],
   "source": [
    "    zahnerZennium.disablePotentiostat()\n",
    "    zahnerZennium.setAmplitude(0)"
   ]
  },
  {
   "cell_type": "markdown",
   "metadata": {},
   "source": [
    "# Close the connection"
   ]
  },
  {
   "cell_type": "code",
   "execution_count": 24,
   "metadata": {},
   "outputs": [
    {
     "name": "stdout",
     "output_type": "stream",
     "text": [
      "finish\n"
     ]
    }
   ],
   "source": [
    "    zenniumConnection.disconnectFromTerm()\n",
    "    print(\"finish\")"
   ]
  }
 ],
 "metadata": {
  "kernelspec": {
   "display_name": "Python 3",
   "language": "python",
   "name": "python3"
  },
  "language_info": {
   "codemirror_mode": {
    "name": "ipython",
    "version": 3
   },
   "file_extension": ".py",
   "mimetype": "text/x-python",
   "name": "python",
   "nbconvert_exporter": "python",
   "pygments_lexer": "ipython3",
   "version": "3.11.1 (tags/v3.11.1:a7a450f, Dec  6 2022, 19:58:39) [MSC v.1934 64 bit (AMD64)]"
  },
  "orig_nbformat": 4,
  "vscode": {
   "interpreter": {
    "hash": "5238573367df39f7286bb46f9ff5f08f63a01a80960060ce41e3c79b190280fa"
   }
  }
 },
 "nbformat": 4,
 "nbformat_minor": 2
}
