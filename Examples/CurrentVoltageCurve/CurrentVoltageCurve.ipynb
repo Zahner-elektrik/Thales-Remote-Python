{
 "cells": [
  {
   "cell_type": "markdown",
   "metadata": {},
   "source": [
    "# Current voltage curves\n",
    "\n",
    "This example shows how the Thales I/E software package can be controlled with Python.\n",
    "\n",
    "The [I/E manual](https://doc.zahner.de/manuals/ie.pdf) provides further explanation of this method and explains the settings."
   ]
  },
  {
   "cell_type": "code",
   "execution_count": 1,
   "metadata": {},
   "outputs": [],
   "source": [
    "import sys\n",
    "from thales_remote.connection import ThalesRemoteConnection\n",
    "from thales_remote.script_wrapper import ThalesRemoteScriptWrapper\n",
    "\n",
    "from zahner_analysis.file_import.iss_import import IssImport\n",
    "\n",
    "import matplotlib.pyplot as plt\n",
    "from matplotlib.ticker import EngFormatter"
   ]
  },
  {
   "cell_type": "markdown",
   "metadata": {},
   "source": [
    "# Establish and initialize \n",
    "\n",
    "The Term software must be started before the script is executed to be able to connect."
   ]
  },
  {
   "cell_type": "code",
   "execution_count": 2,
   "metadata": {},
   "outputs": [
    {
     "name": "stdout",
     "output_type": "stream",
     "text": [
      "devel version\n"
     ]
    }
   ],
   "source": [
    "if __name__ == \"__main__\":\n",
    "    zenniumConnection = ThalesRemoteConnection()\n",
    "    zenniumConnection.connectToTerm(\"localhost\", \"ScriptRemote\")\n",
    "\n",
    "    zahnerZennium = ThalesRemoteScriptWrapper(zenniumConnection)\n",
    "    zahnerZennium.forceThalesIntoRemoteScript()"
   ]
  },
  {
   "cell_type": "markdown",
   "metadata": {},
   "source": [
    "# I/E output file setup\n",
    "\n",
    "The first step is to set where the measurement data is to be saved. The path must exist otherwise you will get an error."
   ]
  },
  {
   "cell_type": "code",
   "execution_count": 3,
   "metadata": {},
   "outputs": [
    {
     "data": {
      "text/plain": [
       "'OK\\r'"
      ]
     },
     "execution_count": 3,
     "metadata": {},
     "output_type": "execute_result"
    }
   ],
   "source": [
    "zahnerZennium.setIEOutputPath(r\"C:\\THALES\\temp\\ie\")"
   ]
  },
  {
   "cell_type": "markdown",
   "metadata": {},
   "source": [
    "Then it is set that the measurements are named individual.  \n",
    "In the further process, the other two naming types are also configured as examples."
   ]
  },
  {
   "cell_type": "code",
   "execution_count": 4,
   "metadata": {},
   "outputs": [
    {
     "data": {
      "text/plain": [
       "'OK\\r'"
      ]
     },
     "execution_count": 4,
     "metadata": {},
     "output_type": "execute_result"
    }
   ],
   "source": [
    "zahnerZennium.setIENaming(\"individual\")"
   ]
  },
  {
   "cell_type": "markdown",
   "metadata": {},
   "source": [
    "# I/E measurement parameters\n",
    "\n",
    "In the next step, the actual parameters for the measurement method are set.  \n",
    "Alternatively, a rule file could be loaded which sets the parameters for the measurement.\n",
    "\n",
    "The methods are named after the parameters they set. Additional information can be found in the [API documentation](https://doc.zahner.de/thales_remote/script_wrapper.html)."
   ]
  },
  {
   "cell_type": "code",
   "execution_count": 5,
   "metadata": {},
   "outputs": [
    {
     "data": {
      "text/plain": [
       "'OK\\r'"
      ]
     },
     "execution_count": 5,
     "metadata": {},
     "output_type": "execute_result"
    }
   ],
   "source": [
    "zahnerZennium.calibrateOffsets()\n",
    "\n",
    "zahnerZennium.setIEFirstEdgePotential(0)\n",
    "zahnerZennium.setIEFirstEdgePotentialRelation(\"absolute\")\n",
    "zahnerZennium.setIESecondEdgePotential(0.4)\n",
    "zahnerZennium.setIESecondEdgePotentialRelation(\"absolute\")\n",
    "zahnerZennium.setIEThirdEdgePotential(-0.4)\n",
    "zahnerZennium.setIEThirdEdgePotentialRelation(\"absolute\")\n",
    "zahnerZennium.setIEFourthEdgePotential(0)\n",
    "zahnerZennium.setIEFourthEdgePotentialRelation(\"absolute\")\n",
    "\n",
    "zahnerZennium.setIEPotentialResolution(0.005)\n",
    "zahnerZennium.setIEMinimumWaitingTime(0.1)\n",
    "zahnerZennium.setIEMaximumWaitingTime(3)\n",
    "zahnerZennium.setIERelativeTolerance(0.01)  # 1 %\n",
    "zahnerZennium.setIEAbsoluteTolerance(0.001)  # 1 mA\n",
    "zahnerZennium.setIEOhmicDrop(0)\n",
    "\n",
    "zahnerZennium.setIEScanRate(0.05)\n",
    "zahnerZennium.setIEMaximumCurrent(3)\n",
    "zahnerZennium.setIEMinimumCurrent(-3)"
   ]
  },
  {
   "cell_type": "markdown",
   "metadata": {},
   "source": [
    "# Execute the measurement\n",
    "\n",
    "In the following, the three different types of I/E are executed one after the other.\n",
    "\n",
    "It also adjusts the file name before each measurement and changes the naming of the files.\n",
    "\n",
    "The [IE manual](https://doc.zahner.de/manuals/ie.pdf) explains the individual types.\n",
    "\n",
    "## Steady State"
   ]
  },
  {
   "cell_type": "code",
   "execution_count": 6,
   "metadata": {},
   "outputs": [
    {
     "data": {
      "text/plain": [
       "'OK\\r'"
      ]
     },
     "execution_count": 6,
     "metadata": {},
     "output_type": "execute_result"
    }
   ],
   "source": [
    "zahnerZennium.setIESweepMode(\"steady state\")\n",
    "zahnerZennium.setIEOutputFileName(\"ie_steady\")"
   ]
  },
  {
   "cell_type": "markdown",
   "metadata": {},
   "source": [
    "After checking whether the parameters have been set correctly, the measurement is started."
   ]
  },
  {
   "cell_type": "code",
   "execution_count": 7,
   "metadata": {},
   "outputs": [
    {
     "name": "stdout",
     "output_type": "stream",
     "text": [
      "OK;IESETUP;IE_EckPot1=0.0000e+00;IE_EckPot2=4.0000e-01;IE_EckPot3=-4.0000e-01;IE_EckPot4=0.0000e+00;IE_EckPot1rel=0;IE_EckPot2rel=0;IE_EckPot3rel=0;IE_EckPot4rel=0;IE_Resolution=5.0000e-03;IE_WZmin=0.1;IE_WZmax=3;IE_Torel=1.0000e-02;IE_Toabs=1.0000e-03;IE_Odrop=0.0000e+00;IE_SweepMode=0;IE_Srate=5.0000e-02;IE_Imi=-3.0000e+00;IE_Ima=3.0000e+00;ENDSETUP\n"
     ]
    },
    {
     "data": {
      "text/plain": [
       "'IE DONE\\r'"
      ]
     },
     "execution_count": 7,
     "metadata": {},
     "output_type": "execute_result"
    }
   ],
   "source": [
    "zahnerZennium.checkIESetup()\n",
    "print(zahnerZennium.readIESetup())\n",
    "\n",
    "zahnerZennium.measureIE()"
   ]
  },
  {
   "cell_type": "markdown",
   "metadata": {},
   "source": [
    "## Dynamic Scan\n",
    "\n",
    "The names of the measurement results are extended with date and time."
   ]
  },
  {
   "cell_type": "code",
   "execution_count": 8,
   "metadata": {},
   "outputs": [
    {
     "name": "stdout",
     "output_type": "stream",
     "text": [
      "OK;IESETUP;IE_EckPot1=0.0000e+00;IE_EckPot2=4.0000e-01;IE_EckPot3=-4.0000e-01;IE_EckPot4=0.0000e+00;IE_EckPot1rel=0;IE_EckPot2rel=0;IE_EckPot3rel=0;IE_EckPot4rel=0;IE_Resolution=5.0000e-03;IE_WZmin=0.1;IE_WZmax=3;IE_Torel=1.0000e-02;IE_Toabs=1.0000e-03;IE_Odrop=0.0000e+00;IE_SweepMode=2;IE_Srate=5.0000e-02;IE_Imi=-3.0000e+00;IE_Ima=3.0000e+00;ENDSETUP\n"
     ]
    },
    {
     "data": {
      "text/plain": [
       "'IE DONE\\r'"
      ]
     },
     "execution_count": 8,
     "metadata": {},
     "output_type": "execute_result"
    }
   ],
   "source": [
    "zahnerZennium.setIESweepMode(\"dynamic scan\")\n",
    "zahnerZennium.setIEOutputFileName(\"ie_dynamic\")\n",
    "\n",
    "zahnerZennium.checkIESetup()\n",
    "print(zahnerZennium.readIESetup())\n",
    "\n",
    "zahnerZennium.measureIE()"
   ]
  },
  {
   "cell_type": "markdown",
   "metadata": {},
   "source": [
    "## Fixed Sampling\n",
    "\n",
    "The names of the measurement results are extended with date and time."
   ]
  },
  {
   "cell_type": "code",
   "execution_count": 9,
   "metadata": {},
   "outputs": [
    {
     "name": "stdout",
     "output_type": "stream",
     "text": [
      "OK;IESETUP;IE_EckPot1=0.0000e+00;IE_EckPot2=4.0000e-01;IE_EckPot3=-4.0000e-01;IE_EckPot4=0.0000e+00;IE_EckPot1rel=0;IE_EckPot2rel=0;IE_EckPot3rel=0;IE_EckPot4rel=0;IE_Resolution=5.0000e-03;IE_WZmin=0.1;IE_WZmax=3;IE_Torel=1.0000e-02;IE_Toabs=1.0000e-03;IE_Odrop=0.0000e+00;IE_SweepMode=1;IE_Srate=5.0000e-02;IE_Imi=-3.0000e+00;IE_Ima=3.0000e+00;ENDSETUP\n"
     ]
    },
    {
     "data": {
      "text/plain": [
       "'IE DONE\\r'"
      ]
     },
     "execution_count": 9,
     "metadata": {},
     "output_type": "execute_result"
    }
   ],
   "source": [
    "zahnerZennium.setIESweepMode(\"fixed sampling\")\n",
    "zahnerZennium.setIEOutputFileName(\"ie_fixed\")\n",
    "\n",
    "zahnerZennium.checkIESetup()\n",
    "print(zahnerZennium.readIESetup())\n",
    "\n",
    "zahnerZennium.measureIE()"
   ]
  },
  {
   "cell_type": "markdown",
   "metadata": {},
   "source": [
    "# Disconnect"
   ]
  },
  {
   "cell_type": "code",
   "execution_count": 10,
   "metadata": {},
   "outputs": [],
   "source": [
    "zenniumConnection.disconnectFromTerm()"
   ]
  },
  {
   "cell_type": "markdown",
   "metadata": {},
   "source": [
    "# Plotting an IE measurement\n",
    "\n",
    "With the [zahner_analysis](https://pypi.org/project/zahner-analysis/) Python package, the I/E measurements can also be read in for further processing.\n",
    "\n",
    "Here the measurement data are plotted as an example.\n",
    "\n",
    "In this example the measurement data is loaded from a file, but it is also possible to process the data via the remote file interface directly after the measurement in Python. There is also an [example of this using impedance spectra](https://github.com/Zahner-elektrik/Thales-Remote-Python/blob/main/Examples/FileExchangeEIS/FileExchangeEIS.ipynb)."
   ]
  },
  {
   "cell_type": "code",
   "execution_count": 11,
   "metadata": {},
   "outputs": [
    {
     "data": {
      "image/png": "[encoded data removed]",
      "text/plain": [
       "<Figure size 1000x1000 with 1 Axes>"
      ]
     },
     "metadata": {},
     "output_type": "display_data"
    }
   ],
   "source": [
    "measurementData = IssImport(r\"C:\\THALES\\temp\\ie\\ie_steady.iss\")\n",
    "\n",
    "\n",
    "fig, (axis) = plt.subplots(1, 1)\n",
    "axis.semilogy(\n",
    "    measurementData.getVoltageArray(),\n",
    "    abs(measurementData.getCurrentArray()),\n",
    "    color=\"red\",\n",
    ")\n",
    "\n",
    "axis.grid(which=\"both\")\n",
    "axis.xaxis.set_major_formatter(EngFormatter(unit=\"V\"))\n",
    "axis.yaxis.set_major_formatter(EngFormatter(unit=\"A\"))\n",
    "axis.set_xlabel(r\"Voltage\")\n",
    "axis.set_ylabel(r\"Current\")\n",
    "fig.set_size_inches(10, 10)\n",
    "plt.show()"
   ]
  },
  {
   "cell_type": "code",
   "execution_count": 12,
   "metadata": {},
   "outputs": [
    {
     "name": "stdout",
     "output_type": "stream",
     "text": [
      "finish\n"
     ]
    }
   ],
   "source": [
    "print(\"finish\")"
   ]
  }
 ],
 "metadata": {
  "kernelspec": {
   "display_name": "Python 3.10.5 64-bit",
   "language": "python",
   "name": "python3"
  },
  "language_info": {
   "codemirror_mode": {
    "name": "ipython",
    "version": 3
   },
   "file_extension": ".py",
   "mimetype": "text/x-python",
   "name": "python",
   "nbconvert_exporter": "python",
   "pygments_lexer": "ipython3",
   "version": "3.11.3"
  },
  "orig_nbformat": 4,
  "vscode": {
   "interpreter": {
    "hash": "26de051ba29f2982a8de78e945f0abaf191376122a1563185a90213a26c5da77"
   }
  }
 },
 "nbformat": 4,
 "nbformat_minor": 2
}
