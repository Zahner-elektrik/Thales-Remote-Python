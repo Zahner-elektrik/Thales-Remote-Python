{
 "cells": [
  {
   "attachments": {},
   "cell_type": "markdown",
   "metadata": {},
   "source": [
    "# DC Sequencer\n",
    "\n",
    "This example shows how the Thales sequncer software package can be controlled with Python.\n",
    "\n",
    "With the [Zahner sequencer](https://doc.zahner.de/manuals/sequencer.pdf), DC voltage and current curves defined in a text file can be output to the potentiostat.  \n",
    "The [sequencer manual](https://doc.zahner.de/manuals/sequencer.pdf) provides further explanation of this method and explains the settings."
   ]
  },
  {
   "cell_type": "code",
   "execution_count": null,
   "metadata": {},
   "outputs": [],
   "source": [
    "import sys\n",
    "from thales_remote.connection import ThalesRemoteConnection\n",
    "from thales_remote.script_wrapper import ThalesRemoteScriptWrapper"
   ]
  },
  {
   "attachments": {},
   "cell_type": "markdown",
   "metadata": {},
   "source": [
    "# Establish and initialize \n",
    "\n",
    "The Term software must be started before the script is executed to be able to connect."
   ]
  },
  {
   "cell_type": "code",
   "execution_count": null,
   "metadata": {},
   "outputs": [],
   "source": [
    "zenniumConnection = ThalesRemoteConnection()\n",
    "zenniumConnection.connectToTerm(\"localhost\", \"ScriptRemote\")\n",
    "\n",
    "zahnerZennium = ThalesRemoteScriptWrapper(zenniumConnection)\n",
    "zahnerZennium.forceThalesIntoRemoteScript()"
   ]
  },
  {
   "attachments": {},
   "cell_type": "markdown",
   "metadata": {},
   "source": [
    "# Output file setup\n",
    "\n",
    "The first step is to set where the measurement data is to be saved. The path must exist otherwise you will get an error.\n",
    "\n",
    "The file names are extended by date and time."
   ]
  },
  {
   "cell_type": "code",
   "execution_count": null,
   "metadata": {},
   "outputs": [],
   "source": [
    "zahnerZennium.calibrateOffsets()\n",
    "zahnerZennium.setSequenceNaming(\"dateTime\")\n",
    "zahnerZennium.setSequenceOutputPath(r\"C:\\THALES\\temp\\test1\")\n",
    "zahnerZennium.setSequenceOutputFileName(\"batterysequence\")"
   ]
  },
  {
   "attachments": {},
   "cell_type": "markdown",
   "metadata": {},
   "source": [
    "# Setting the sequence\n",
    "\n",
    "Next, you must select which sequence to execute.\n",
    "\n",
    "The sequences must be stored under \"C:\\THALES\\script\\sequencer\\sequences\\\". Sequences from 0 to 9 can be created. These must have the names from \"sequence00.seq\" to \"sequence09.seq\"."
   ]
  },
  {
   "cell_type": "code",
   "execution_count": null,
   "metadata": {},
   "outputs": [],
   "source": [
    "zahnerZennium.selectSequence(0)"
   ]
  },
  {
   "attachments": {},
   "cell_type": "markdown",
   "metadata": {},
   "source": [
    "# Switch on ACQ channels\n",
    "\n",
    "Up to 8 ACQ channels can be recorded in the sequencer. These must be switched on individually with [enableSequenceAcqChannel()](https://doc.zahner.de/thales_remote/script_wrapper.html#thales_remote.script_wrapper.ThalesRemoteScriptWrapper.enableSequenceAcqChannel) and global with [enableSequenceAcqGlobal()](https://doc.zahner.de/thales_remote/script_wrapper.html#thales_remote.script_wrapper.ThalesRemoteScriptWrapper.enableSequenceAcqGlobal). And can also be switched off again.\n",
    "\n",
    "The easiest way to find out which index has to be switched on is to use the GUI. Generally the ACQ display channel plus 1 is the channel number for the sequencer."
   ]
  },
  {
   "cell_type": "code",
   "execution_count": null,
   "metadata": {},
   "outputs": [],
   "source": [
    "zahnerZennium.enableSequenceAcqGlobal()\n",
    "zahnerZennium.enableSequenceAcqChannel(3)\n",
    "\n",
    "# disable\n",
    "# zahnerZennium.disableSequenceAcqChannel(1)"
   ]
  },
  {
   "attachments": {},
   "cell_type": "markdown",
   "metadata": {},
   "source": [
    "# Execute the measurement\n",
    "\n",
    "In the following, the selected sequence will be executed."
   ]
  },
  {
   "cell_type": "code",
   "execution_count": null,
   "metadata": {},
   "outputs": [],
   "source": [
    "zahnerZennium.runSequence()"
   ]
  },
  {
   "attachments": {},
   "cell_type": "markdown",
   "metadata": {},
   "source": [
    "# Changing the potentiostat\n",
    "\n",
    "By default the main potentiostat with the number 0 is selected. 1 corresponds to the external potentiostat connected to EPC channel 1.\n",
    "\n",
    "Zahner offers various [External Potentiostats](https://zahner.de/products#external-potentiostats) or [Electronic Loads](https://zahner.de/products#electronic-loads) with higher power, voltage and current which can be controlled like the internal potentiostat."
   ]
  },
  {
   "cell_type": "code",
   "execution_count": null,
   "metadata": {},
   "outputs": [],
   "source": [
    "zahnerZennium.selectPotentiostat(1)"
   ]
  },
  {
   "attachments": {},
   "cell_type": "markdown",
   "metadata": {},
   "source": [
    "# Another output file setup\n",
    "\n",
    "For the next measurement, the measurement results are to be numbered consecutively starting at 13."
   ]
  },
  {
   "cell_type": "code",
   "execution_count": null,
   "metadata": {},
   "outputs": [],
   "source": [
    "zahnerZennium.setSequenceNaming(\"counter\")\n",
    "zahnerZennium.setSequenceCounter(13)\n",
    "zahnerZennium.setSequenceOutputPath(r\"C:\\THALES\\temp\\test1\")\n",
    "zahnerZennium.setSequenceOutputFileName(\"batterysequence\")"
   ]
  },
  {
   "attachments": {},
   "cell_type": "markdown",
   "metadata": {},
   "source": [
    "# Execute the measurement\n",
    "\n",
    "The following function can only be used if Python has access to the folder C:/THALES/script/sequencer/sequences.  \n",
    "This means Python must be on the same computer or the path must be accessible via network share.\n",
    "\n",
    "The sequence file that is passed in is then copied to the sequences folder and renamed to sequence 9.\n",
    "\n",
    "In the [API documentation](https://doc.zahner.de/thales_remote/script_wrapper.html#thales_remote.script_wrapper.ThalesRemoteScriptWrapper.runSequenceFile) of the function the optional passing parameters can be specified.\n"
   ]
  },
  {
   "cell_type": "code",
   "execution_count": null,
   "metadata": {},
   "outputs": [],
   "source": [
    "zahnerZennium.runSequenceFile(r\"C:\\Users\\XXX\\Desktop\\myZahnerSequence.seq\")"
   ]
  },
  {
   "attachments": {},
   "cell_type": "markdown",
   "metadata": {},
   "source": [
    "# Disconnect\n",
    "\n",
    "After the measurements are completed, the device switches back to the main potentiostat and the connection to the term is disconnected."
   ]
  },
  {
   "cell_type": "code",
   "execution_count": 3,
   "metadata": {},
   "outputs": [
    {
     "name": "stdout",
     "output_type": "stream",
     "text": [
      "finish\n"
     ]
    }
   ],
   "source": [
    "zahnerZennium.selectPotentiostat(0)\n",
    "\n",
    "zenniumConnection.disconnectFromTerm()\n",
    "print(\"finish\")"
   ]
  }
 ],
 "metadata": {
  "kernelspec": {
   "display_name": "Python 3",
   "language": "python",
   "name": "python3"
  },
  "language_info": {
   "codemirror_mode": {
    "name": "ipython",
    "version": 3
   },
   "file_extension": ".py",
   "mimetype": "text/x-python",
   "name": "python",
   "nbconvert_exporter": "python",
   "pygments_lexer": "ipython3",
   "version": "3.11.3"
  },
  "orig_nbformat": 4,
  "vscode": {
   "interpreter": {
    "hash": "5238573367df39f7286bb46f9ff5f08f63a01a80960060ce41e3c79b190280fa"
   }
  }
 },
 "nbformat": 4,
 "nbformat_minor": 2
}
