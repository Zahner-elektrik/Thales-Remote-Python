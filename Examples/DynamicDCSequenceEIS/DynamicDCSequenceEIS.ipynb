{
 "cells": [
  {
   "attachments": {},
   "cell_type": "markdown",
   "metadata": {},
   "source": [
    "# Polarization and EIS at different currents\n",
    "\n",
    "In this example the [Zahner DC Sequencer](https://doc.zahner.de/manuals/sequencer.pdf) is used and EIS is measured.\n",
    "With the DC Sequencer, OCP is measured first and then constant current is output. The constant current phase is followed by an impedance spectra. This example can be used as a template when measuring at different current densities, e.g. fuel cells.\n",
    "\n",
    "The feature of this script is that the [Jinja2](https://jinja.palletsprojects.com/en/3.1.x/) template engine is used to create the sequence files with different currents, which are then executed.\n",
    "\n",
    "For the DC Sequencer alone there is a separate [example](https://github.com/Zahner-elektrik/Thales-Remote-Python/blob/main/Examples/DCSequencer/DCSequencer.ipynb)."
   ]
  },
  {
   "cell_type": "code",
   "execution_count": 1,
   "metadata": {},
   "outputs": [],
   "source": [
    "import os\n",
    "import jinja2\n",
    "from thales_remote.connection import ThalesRemoteConnection\n",
    "from thales_remote.script_wrapper import (\n",
    "    PotentiostatMode,\n",
    "    ScanDirection,\n",
    "    ThalesRemoteScriptWrapper,\n",
    "    FileNaming,\n",
    "    ScanStrategy,\n",
    ")"
   ]
  },
  {
   "attachments": {},
   "cell_type": "markdown",
   "metadata": {},
   "source": [
    "# Function to generate the seq sequence files\n",
    "\n",
    "There is a sequence file as template with the name *ocp_constant_current_template.txt*, this file contains the placeholders, which are then filled with Jinja2. For example, the placeholders are: `\\PYVAR{dc_time}`. The function `fillTemplateFile()` is then passed the parameters as keyworded variables (kwargs) for example: `dc_time=2.0`.\n",
    "\n",
    "Extract from the sequence file:\n",
    "```\n",
    "  start_cycle\t\n",
    "    samples(10)\n",
    "    ocp(TIM2)\n",
    "    hold_cur(CUR1,TIM1)\n",
    "  end_cycle\n",
    "    \n",
    "  start_variables\n",
    "    TIM1=\\PYVAR{dc_time}\n",
    "    TIM2=\\PYVAR{ocp_time}\n",
    "    CUR1=\\PYVAR{dc_current}\n",
    "  end_variables\n",
    "```\n",
    "\n",
    "At 10 Hz the measurements are performed, first an OCP phase and then a constant current phase.\n",
    "\n",
    "When the template is filled, the complete file is written according to the corresponding path with the filename."
   ]
  },
  {
   "cell_type": "code",
   "execution_count": 2,
   "metadata": {},
   "outputs": [],
   "source": [
    "def fillTemplateFile(templateFile: str, outputFile: str, **kwargs):\n",
    "    \"\"\"\n",
    "    Function to fill in template files.\n",
    "\n",
    "    For example, the following placeholders must be in the passed template:\n",
    "        `\\PYVAR{dc_time}`\n",
    "\n",
    "    Then the value for the template must be passed as an additional parameter as keyworded variable (kwargs):\n",
    "        `dc_time=2.0`\n",
    "\n",
    "    :param templateFile: path of the file containing the templates.\n",
    "    :param outputFile: path to the file containing the completed templates.\n",
    "    :param **kwargs: template parameters which should be filled in as keyworded variable.\n",
    "    \"\"\"\n",
    "    latex_jinja_env = jinja2.Environment(\n",
    "        variable_start_string=\"\\PYVAR{\",\n",
    "        variable_end_string=\"}\",\n",
    "        trim_blocks=True,\n",
    "        autoescape=False,\n",
    "        keep_trailing_newline=True,\n",
    "        newline_sequence=\"\\r\\n\",\n",
    "        loader=jinja2.FileSystemLoader(os.path.abspath(\".\")),\n",
    "    )\n",
    "\n",
    "    template = latex_jinja_env.get_template(templateFile)\n",
    "\n",
    "    fileString = template.render(**kwargs)\n",
    "\n",
    "    fileBytes = fileString.encode(\"utf-8\")\n",
    "    with open(outputFile, \"wb\") as f:\n",
    "        f.write(fileBytes)\n",
    "\n",
    "    return"
   ]
  },
  {
   "attachments": {},
   "cell_type": "markdown",
   "metadata": {},
   "source": [
    "# Initialize the Measurement\n",
    "\n",
    "The list `currentSteps` defines the DC currents at which DC is measured and at which impedance is measured.\n",
    "The variable `amplitude` specifies the amplitude which is used for all currents.\n",
    "\n",
    "Afterwards the connection to the already running Thales/Term software is established."
   ]
  },
  {
   "cell_type": "code",
   "execution_count": 3,
   "metadata": {},
   "outputs": [
    {
     "name": "stdout",
     "output_type": "stream",
     "text": [
      "devel version\n"
     ]
    },
    {
     "data": {
      "text/plain": [
       "'128,ScriptRemote,5,6,0,0'"
      ]
     },
     "execution_count": 3,
     "metadata": {},
     "output_type": "execute_result"
    }
   ],
   "source": [
    "currentSteps = [0, 0.5, 1, 1.5, 2]\n",
    "amplitude = 0.05\n",
    "\n",
    "zenniumConnection = ThalesRemoteConnection()\n",
    "zenniumConnection.connectToTerm(\"localhost\")\n",
    "zahnerZennium = ThalesRemoteScriptWrapper(zenniumConnection)\n",
    "zahnerZennium.forceThalesIntoRemoteScript()"
   ]
  },
  {
   "attachments": {},
   "cell_type": "markdown",
   "metadata": {},
   "source": [
    "# Perform the Measurements\n",
    "\n",
    "A for loop is used to iterate over the different current points. For each current a new seq-file is created with the function `fillTemplateFile()` from the template file.\n",
    "\n",
    "Then the sequence written to number 9 is performed and the EIS measurement is parameterized and done in the same way. For the DC measurement and the EIS, a file is saved, which has the current in mA in the name, since there must not be any \",\" or \".\" in the filename."
   ]
  },
  {
   "cell_type": "code",
   "execution_count": 4,
   "metadata": {},
   "outputs": [
    {
     "name": "stdout",
     "output_type": "stream",
     "text": [
      "Step: 0\n",
      "Step: 0.5\n",
      "Step: 1\n",
      "Step: 1.5\n",
      "Step: 2\n"
     ]
    }
   ],
   "source": [
    "for current in currentSteps:\n",
    "    print(f\"Step: {current}\")\n",
    "    \"\"\"\n",
    "    DC Sequence\n",
    "    \"\"\"\n",
    "    fillTemplateFile(\n",
    "        templateFile=r\"ocp_constant_current_template.txt\",\n",
    "        outputFile=r\"C:\\THALES\\script\\sequencer\\sequences\\sequence09.seq\",\n",
    "        ocp_time=10,\n",
    "        dc_time=20,\n",
    "        dc_current=current,\n",
    "    )\n",
    "\n",
    "    filename = f\"{int(current*1000)}ma_current\"\n",
    "\n",
    "    zahnerZennium.disableSequenceAcqGlobal()\n",
    "    zahnerZennium.setSequenceNaming(FileNaming.INDIVIDUAL)\n",
    "    zahnerZennium.setSequenceOutputPath(r\"C:\\THALES\\temp\")\n",
    "    zahnerZennium.setSequenceOutputFileName(filename)\n",
    "    zahnerZennium.selectSequence(9)\n",
    "    zahnerZennium.runSequence()\n",
    "\n",
    "    \"\"\"\n",
    "    EIS\n",
    "    \"\"\"\n",
    "    zahnerZennium.setEISNaming(FileNaming.INDIVIDUAL)\n",
    "    zahnerZennium.setEISOutputPath(r\"C:\\THALES\\temp\")\n",
    "    zahnerZennium.setEISOutputFileName(filename)\n",
    "    zahnerZennium.setPotentiostatMode(PotentiostatMode.POTMODE_GALVANOSTATIC)\n",
    "    zahnerZennium.setAmplitude(amplitude)\n",
    "    zahnerZennium.setCurrent(current)\n",
    "    zahnerZennium.setLowerFrequencyLimit(10)\n",
    "    zahnerZennium.setStartFrequency(1000)\n",
    "    zahnerZennium.setUpperFrequencyLimit(10000)\n",
    "    zahnerZennium.setLowerNumberOfPeriods(5)\n",
    "    zahnerZennium.setLowerStepsPerDecade(2)\n",
    "    zahnerZennium.setUpperNumberOfPeriods(20)\n",
    "    zahnerZennium.setUpperStepsPerDecade(5)\n",
    "    zahnerZennium.setScanDirection(ScanDirection.START_TO_MAX)\n",
    "    zahnerZennium.setScanStrategy(ScanStrategy.SINGLE_SINE)\n",
    "\n",
    "    zahnerZennium.measureEIS()\n",
    "\n",
    "    zahnerZennium.setAmplitude(0)\n",
    "\n",
    "zahnerZennium.disablePotentiostat()\n",
    "zenniumConnection.disconnectFromTerm()"
   ]
  }
 ],
 "metadata": {
  "kernelspec": {
   "display_name": "Python 3",
   "language": "python",
   "name": "python3"
  },
  "language_info": {
   "codemirror_mode": {
    "name": "ipython",
    "version": 3
   },
   "file_extension": ".py",
   "mimetype": "text/x-python",
   "name": "python",
   "nbconvert_exporter": "python",
   "pygments_lexer": "ipython3",
   "version": "3.11.3"
  },
  "orig_nbformat": 4
 },
 "nbformat": 4,
 "nbformat_minor": 2
}
