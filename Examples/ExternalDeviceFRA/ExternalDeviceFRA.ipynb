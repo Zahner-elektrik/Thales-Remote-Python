{
 "cells": [
  {
   "cell_type": "markdown",
   "metadata": {},
   "source": [
    "# FRA measurements with 3rd party devices\n",
    "\n",
    "If sources or sinks have analog interfaces for control, it is possible to use them for impedance measurement with Thales and the [FRA probe](https://www.zahner.de/products-details/probes/fra-probe).\n",
    "\n",
    "The manual for the FRA probe explains the use case in detail: [FRA Manual](https://doc.zahner.de/hardware/fra_probe.pdf)"
   ]
  },
  {
   "cell_type": "code",
   "execution_count": 6,
   "metadata": {},
   "outputs": [],
   "source": [
    "import sys\n",
    "from thales_remote.connection import ThalesRemoteConnection\n",
    "from thales_remote.script_wrapper import PotentiostatMode,ThalesRemoteScriptWrapper\n",
    "import time"
   ]
  },
  {
   "cell_type": "markdown",
   "metadata": {},
   "source": [
    "# Connect Python to the already launched Thales-Software"
   ]
  },
  {
   "cell_type": "code",
   "execution_count": null,
   "metadata": {},
   "outputs": [],
   "source": [
    "\n",
    "if __name__ == \"__main__\":\n",
    "    zenniumConnection = ThalesRemoteConnection()\n",
    "    zenniumConnection.connectToTerm(\"localhost\", \"ScriptRemote\")\n",
    "    \n",
    "    zahnerZennium = ThalesRemoteScriptWrapper(zenniumConnection)\n",
    "    zahnerZennium.forceThalesIntoRemoteScript()"
   ]
  },
  {
   "cell_type": "markdown",
   "metadata": {},
   "source": [
    "# Configuration of the FRA operation\n",
    "\n",
    "The [FRA Manual](https://doc.zahner.de/hardware/fra_probe.pdf) describes the application in detail, in the following lines only the parameterization relevant for Python is discussed.\n",
    "\n",
    "The FRA mode must be switched off so that the analog interface to the external device can be initialized.\n",
    "\n",
    "For the device to work, the gains of voltage and current must be set on the interface. These describe how much signal voltage on the analog interface corresponds to what output current or voltage.\n",
    "Also minimum and maximum voltage and current of the device must be set.\n",
    "\n",
    "In the example, the FRA interface is initialized for use with a [DELTA SM3300 SM 18-220](https://www.delta-elektronika.nl/en/products/dc-power-supplies-3300w-sm3300-series.html) power supply/source, which has the analog extension. However, this source is only limited suitable for FRA operation.\n",
    "\n",
    "This source has **18 V** output voltage and **220 A** maximum current. The analog voltage on the interface is **0 V to 5 V**.\n",
    "\n",
    "This results in the settings of the gains in the following lines of code. It may be, as in this example, that some gains must have a negative sign. This must be tested with the respective device.\n",
    "\n",
    "The FRA probe has a maximum +-10 V target signal and one input each for +-10 V current and voltage signal.\n",
    "\n",
    "The source must be controlled separately so that the analog interface is used, the source is switched on and off or for potentiostatic and galvanostatic. The Thales software only provides the analog signals, everything else must be done via the device interface.\n",
    "\n"
   ]
  },
  {
   "cell_type": "code",
   "execution_count": null,
   "metadata": {},
   "outputs": [],
   "source": [
    "    zahnerZennium.disableFraMode()\n",
    "    \n",
    "    zahnerZennium.setFraVoltageMinimum(0)\n",
    "    zahnerZennium.setFraVoltageMaximum(18)\n",
    "    zahnerZennium.setFraCurrentMinimum(0)\n",
    "    zahnerZennium.setFraCurrentMaximum(220)\n",
    "    \n",
    "    zahnerZennium.setFraVoltageInputGain(18.0/5.0)\n",
    "    zahnerZennium.setFraVoltageOutputGain(18.0/5.0)\n",
    "    zahnerZennium.setFraCurrentInputGain(-220.0/5.0)\n",
    "    zahnerZennium.setFraCurrentOutputGain(-220.0/5.0)\n",
    "    \n",
    "    zahnerZennium.setFraPotentiostatMode(PotentiostatMode.POTMODE_GALVANOSTATIC)"
   ]
  },
  {
   "cell_type": "markdown",
   "metadata": {},
   "source": [
    "After parameterization the FRA mode can be switched on."
   ]
  },
  {
   "cell_type": "code",
   "execution_count": null,
   "metadata": {},
   "outputs": [],
   "source": [
    "    zahnerZennium.enableFraMode()\n",
    "    zahnerZennium.setCurrent(0)"
   ]
  },
  {
   "cell_type": "markdown",
   "metadata": {},
   "source": [
    "At this point, the external device which receives the target signals via FRA must be switched on and configured accordingly.\n",
    "\n",
    "The output of the device must **not be switched on** beforehand, as the analog interface has not yet been initialized.\n",
    "\n",
    "Simple DC measurements are also possible."
   ]
  },
  {
   "cell_type": "code",
   "execution_count": 10,
   "metadata": {},
   "outputs": [
    {
     "name": "stdout",
     "output_type": "stream",
     "text": [
      "Potential:\t0.004607167\tV\n",
      "Potential:\t1.913566\tV\n",
      "Potential:\t3.952542\tV\n",
      "Potential:\t6.068166\tV\n",
      "Potential:\t8.130561\tV\n"
     ]
    }
   ],
   "source": [
    "    for i in range(5):\n",
    "        zahnerZennium.setCurrent(i)\n",
    "        time.sleep(1)\n",
    "        print(f\"Potential:\\t{zahnerZennium.getPotential()}\\tV\")"
   ]
  },
  {
   "cell_type": "markdown",
   "metadata": {},
   "source": [
    "Then impedance can be measured like with the internal potentiostat.\n",
    "The commands for switching the potentiostat on and off are not necessary, since the potentiostat is not used."
   ]
  },
  {
   "cell_type": "code",
   "execution_count": 11,
   "metadata": {},
   "outputs": [
    {
     "name": "stdout",
     "output_type": "stream",
     "text": [
      "finish\n"
     ]
    }
   ],
   "source": [
    "    zahnerZennium.setEISOutputPath(r\"C:\\THALES\\temp\\test1\")\n",
    "    zahnerZennium.setEISNaming(\"counter\")\n",
    "    zahnerZennium.setEISCounter(13)\n",
    "    zahnerZennium.setEISOutputFileName(\"spectra\")\n",
    "\n",
    "    zahnerZennium.setAmplitude(0.5)\n",
    "    zahnerZennium.setCurrent(5)\n",
    "    zahnerZennium.setLowerFrequencyLimit(0.1)\n",
    "    zahnerZennium.setStartFrequency(10)\n",
    "    zahnerZennium.setUpperFrequencyLimit(100)\n",
    "    zahnerZennium.setLowerNumberOfPeriods(3)\n",
    "    zahnerZennium.setLowerStepsPerDecade(2)\n",
    "    zahnerZennium.setUpperNumberOfPeriods(20)\n",
    "    zahnerZennium.setUpperStepsPerDecade(3)\n",
    "    zahnerZennium.setScanDirection(\"startToMax\")\n",
    "    zahnerZennium.setScanStrategy(\"single\")\n",
    "    \n",
    "    zahnerZennium.measureEIS()\n",
    "    \n",
    "    zahnerZennium.disableFraMode()\n",
    "\n",
    "    zenniumConnection.disconnectFromTerm()\n",
    "    print(\"finish\")"
   ]
  }
 ],
 "metadata": {
  "kernelspec": {
   "display_name": "Python 3",
   "language": "python",
   "name": "python3"
  },
  "language_info": {
   "codemirror_mode": {
    "name": "ipython",
    "version": 3
   },
   "file_extension": ".py",
   "mimetype": "text/x-python",
   "name": "python",
   "nbconvert_exporter": "python",
   "pygments_lexer": "ipython3",
   "version": "3.11.1 (tags/v3.11.1:a7a450f, Dec  6 2022, 19:58:39) [MSC v.1934 64 bit (AMD64)]"
  },
  "orig_nbformat": 4,
  "vscode": {
   "interpreter": {
    "hash": "5238573367df39f7286bb46f9ff5f08f63a01a80960060ce41e3c79b190280fa"
   }
  }
 },
 "nbformat": 4,
 "nbformat_minor": 2
}
