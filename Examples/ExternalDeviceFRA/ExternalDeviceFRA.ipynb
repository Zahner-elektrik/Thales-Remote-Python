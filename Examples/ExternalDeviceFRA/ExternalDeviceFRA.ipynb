{
 "cells": [
  {
   "cell_type": "markdown",
   "metadata": {},
   "source": [
    "# FRA-X measurements with 3rd party devices\n",
    "\n",
    "If sources or sinks have analog interfaces for control, it is possible to use them for impedance measurement with Thales and the [FRA probe](https://www.zahner.de/products-details/probes/fra-probe).\n",
    "\n",
    "The manual for the FRA probe explains the use case in detail: [FRA Manual](https://doc.zahner.de/hardware/fra_probe.pdf)"
   ]
  },
  {
   "cell_type": "code",
   "execution_count": 84,
   "metadata": {},
   "outputs": [],
   "source": [
    "from thales_remote.connection import ThalesRemoteConnection\n",
    "from thales_remote.script_wrapper import PotentiostatMode, ThalesRemoteScriptWrapper\n",
    "import time"
   ]
  },
  {
   "cell_type": "markdown",
   "metadata": {},
   "source": [
    "# Connect Python to the already launched Thales-Software"
   ]
  },
  {
   "cell_type": "code",
   "execution_count": 85,
   "metadata": {},
   "outputs": [
    {
     "name": "stdout",
     "output_type": "stream",
     "text": [
      "devel version\n"
     ]
    },
    {
     "data": {
      "text/plain": [
       "'128,ScriptRemote,5,6,0,0'"
      ]
     },
     "execution_count": 85,
     "metadata": {},
     "output_type": "execute_result"
    }
   ],
   "source": [
    "zenniumConnection = ThalesRemoteConnection()\n",
    "zenniumConnection.connectToTerm(\"192.168.2.47\", \"ScriptRemote\")\n",
    "\n",
    "zahnerZennium = ThalesRemoteScriptWrapper(zenniumConnection)\n",
    "zahnerZennium.forceThalesIntoRemoteScript()"
   ]
  },
  {
   "cell_type": "markdown",
   "metadata": {},
   "source": [
    "# Configuration of the FRA operation\n",
    "\n",
    "The [FRA Manual](https://doc.zahner.de/hardware/fra_probe.pdf) describes the application in detail, in the following lines only the parameterization relevant for Python is discussed.\n",
    "\n",
    "The FRA mode must be switched off so that the analog interface to the external device can be initialized.\n",
    "\n",
    "For the device to work, the gains of voltage and current must be set on the interface. These describe how much signal voltage on the analog interface corresponds to what output current or voltage.\n",
    "Also minimum and maximum voltage and current of the device must be set.\n",
    "\n",
    "In the example, the FRA interface is initialized for use with a [DELTA SM3300 SM 18-220](https://www.delta-elektronika.nl/en/products/dc-power-supplies-3300w-sm3300-series.html) power supply/source, which has the analog extension. However, this source is only limited suitable for FRA operation.\n",
    "\n",
    "This source has **18 V** output voltage and **220 A** maximum current. The analog voltage on the interface is **0 V to 5 V**.\n",
    "\n",
    "This results in the settings of the gains in the following lines of code. It may be, as in this example, that some gains must have a negative sign. This must be tested with the respective device.\n",
    "\n",
    "The source must be controlled separately so that the analog interface is used, the source is switched on and off or for potentiostatic and galvanostatic. The Thales software only provides the analog signals, everything else must be done via the device interface.\n",
    "\n"
   ]
  },
  {
   "cell_type": "code",
   "execution_count": 86,
   "metadata": {},
   "outputs": [
    {
     "data": {
      "text/plain": [
       "'OK\\r'"
      ]
     },
     "execution_count": 86,
     "metadata": {},
     "output_type": "execute_result"
    }
   ],
   "source": [
    "zahnerZennium.enableFraMode()"
   ]
  },
  {
   "cell_type": "code",
   "execution_count": 87,
   "metadata": {},
   "outputs": [
    {
     "data": {
      "text/plain": [
       "'OK\\r'"
      ]
     },
     "execution_count": 87,
     "metadata": {},
     "output_type": "execute_result"
    }
   ],
   "source": [
    "zahnerZennium.setFraVoltageMinimum(0)\n",
    "zahnerZennium.setFraVoltageMaximum(18)\n",
    "zahnerZennium.setFraCurrentMinimum(0)\n",
    "zahnerZennium.setFraCurrentMaximum(220)\n",
    "\n",
    "zahnerZennium.setFraVoltageInputGain(5 * (4 / 5)) # gain * (4 / 5)\n",
    "zahnerZennium.setFraVoltageInputOffset(-25e-3)\n",
    "\n",
    "zahnerZennium.setFraVoltageOutputGain(18.0/5.0)\n",
    "zahnerZennium.setFraVoltageOutputOffset(-0.3)\n",
    "\n",
    "zahnerZennium.setFraCurrentInputGain(-242)\n",
    "zahnerZennium.setFraCurrentInputOffset(-15.03)\n",
    "\n",
    "zahnerZennium.setFraCurrentOutputGain(-220.0/5.0)\n",
    "zahnerZennium.setFraCurrentOutputOffset(-3)\n",
    "\n",
    "zahnerZennium.setFraPotentiostatMode(PotentiostatMode.POTMODE_GALVANOSTATIC)\n",
    "zahnerZennium.setCurrent(0)"
   ]
  },
  {
   "cell_type": "markdown",
   "metadata": {},
   "source": [
    "After parameterization the FRA mode can be switched on."
   ]
  },
  {
   "cell_type": "markdown",
   "metadata": {},
   "source": [
    "At this point, the external device which receives the target signals via FRA must be switched on and configured accordingly.\n",
    "\n",
    "The output of the device must **not be switched on** beforehand, as the analog interface has not yet been initialized.\n",
    "\n",
    "Simple DC measurements are also possible."
   ]
  },
  {
   "cell_type": "code",
   "execution_count": 88,
   "metadata": {},
   "outputs": [
    {
     "name": "stdout",
     "output_type": "stream",
     "text": [
      "Potential:\t0.0005221556\tV\n",
      "Current:\t0.04569409\tA\n",
      "Potential:\t0.01014815\tV\n",
      "Current:\t1.006116\tA\n",
      "Potential:\t0.01979393\tV\n",
      "Current:\t2.000953\tA\n",
      "Potential:\t0.02997681\tV\n",
      "Current:\t3.007906\tA\n",
      "Potential:\t0.04010656\tV\n",
      "Current:\t3.994758\tA\n",
      "Potential:\t0.05025365\tV\n",
      "Current:\t5.002351\tA\n",
      "Potential:\t0.05973741\tV\n",
      "Current:\t6.009117\tA\n",
      "Potential:\t0.06979417\tV\n",
      "Current:\t7.020814\tA\n",
      "Potential:\t0.07994695\tV\n",
      "Current:\t8.008658\tA\n",
      "Potential:\t0.09013592\tV\n",
      "Current:\t9.006383\tA\n"
     ]
    }
   ],
   "source": [
    "for i in range(10):\n",
    "    zahnerZennium.setCurrent(i)\n",
    "    time.sleep(0.5)\n",
    "    print(f\"Potential:\\t{zahnerZennium.getPotential()}\\tV\")\n",
    "    print(f\"Current:\\t{zahnerZennium.getCurrent()}\\tA\")"
   ]
  },
  {
   "cell_type": "markdown",
   "metadata": {},
   "source": [
    "Then impedance can be measured like with the internal potentiostat.\n",
    "The commands for switching the potentiostat on and off are not necessary, since the potentiostat is not used."
   ]
  },
  {
   "cell_type": "code",
   "execution_count": 89,
   "metadata": {},
   "outputs": [
    {
     "name": "stdout",
     "output_type": "stream",
     "text": [
      "finish\n"
     ]
    }
   ],
   "source": [
    "zahnerZennium.setEISOutputPath(r\"C:\\THALES\\temp\\test1\")\n",
    "zahnerZennium.setEISNaming(\"counter\")\n",
    "zahnerZennium.setEISCounter(13)\n",
    "zahnerZennium.setEISOutputFileName(\"spectra\")\n",
    "\n",
    "zahnerZennium.setCurrent(10)\n",
    "zahnerZennium.setAmplitude(2)\n",
    "zahnerZennium.setLowerFrequencyLimit(1)\n",
    "zahnerZennium.setStartFrequency(1000)\n",
    "zahnerZennium.setUpperFrequencyLimit(10e3)\n",
    "zahnerZennium.setLowerNumberOfPeriods(3)\n",
    "zahnerZennium.setLowerStepsPerDecade(2)\n",
    "zahnerZennium.setUpperNumberOfPeriods(20)\n",
    "zahnerZennium.setUpperStepsPerDecade(3)\n",
    "zahnerZennium.setScanDirection(\"startToMax\")\n",
    "zahnerZennium.setScanStrategy(\"single\")\n",
    "\n",
    "zahnerZennium.measureEIS()\n",
    "\n",
    "zenniumConnection.disconnectFromTerm()\n",
    "print(\"finish\")"
   ]
  }
 ],
 "metadata": {
  "kernelspec": {
   "display_name": "Python 3",
   "language": "python",
   "name": "python3"
  },
  "language_info": {
   "codemirror_mode": {
    "name": "ipython",
    "version": 3
   },
   "file_extension": ".py",
   "mimetype": "text/x-python",
   "name": "python",
   "nbconvert_exporter": "python",
   "pygments_lexer": "ipython3",
   "version": "3.12.2"
  },
  "orig_nbformat": 4,
  "vscode": {
   "interpreter": {
    "hash": "5238573367df39f7286bb46f9ff5f08f63a01a80960060ce41e3c79b190280fa"
   }
  }
 },
 "nbformat": 4,
 "nbformat_minor": 2
}
