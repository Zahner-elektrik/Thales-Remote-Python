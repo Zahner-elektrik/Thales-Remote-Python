{
 "cells": [
  {
   "cell_type": "markdown",
   "metadata": {},
   "source": [
    "# Workstation Heartbeat\n",
    "\n",
    "This example shows how in a separate thread from the Term the HeartBeat can be queried with Python. The HeartBeat is queried in a separate thread once a second.\n",
    "\n",
    "The HeartBeat represents how many milliseconds it has been since the Term has received something from the Thales."
   ]
  },
  {
   "cell_type": "code",
   "execution_count": 4,
   "metadata": {},
   "outputs": [],
   "source": [
    "import sys\n",
    "from thales_remote.connection import ThalesRemoteConnection\n",
    "from thales_remote.script_wrapper import PotentiostatMode,ThalesRemoteScriptWrapper\n",
    "import time\n",
    "import threading\n",
    "\n",
    "zenniumConnection = None\n",
    "zahnerZennium = None\n",
    "keepThreadRunning = True"
   ]
  },
  {
   "cell_type": "markdown",
   "metadata": {},
   "source": [
    "# Watch Thread\n",
    "The following function is used as a thread, in which the HearBeat is queried once a second. The HeartBeat time varies, for example, if EIS is measured at low frequencies, then this time is increased.\n",
    "\n",
    "With getTermIsActive() it is checked with timeout whether the Term software still answers, since beside Thales also the Term could have crashed."
   ]
  },
  {
   "cell_type": "code",
   "execution_count": 5,
   "metadata": {},
   "outputs": [],
   "source": [
    "\n",
    "def watchThreadFunction():\n",
    "    global zenniumConnection\n",
    "    global zahnerZennium\n",
    "    global keepThreadRunning\n",
    "    \n",
    "    while keepThreadRunning:\n",
    "        time.sleep(1)\n",
    "        active = zahnerZennium.getTermIsActive()\n",
    "        print(\"active state: \" + str(active))\n",
    "        if active:\n",
    "            print(\"beat count: \" + str(zahnerZennium.getWorkstationHeartBeat()))"
   ]
  },
  {
   "cell_type": "markdown",
   "metadata": {},
   "source": [
    "# Main Program Sequence\n",
    "\n",
    "The following is the main program flow, alongside which the Watch Thread runs. Here we simply measure something as an example."
   ]
  },
  {
   "cell_type": "code",
   "execution_count": null,
   "metadata": {},
   "outputs": [],
   "source": [
    "if __name__ == \"__main__\":\n",
    "    zenniumConnection = ThalesRemoteConnection()\n",
    "    zenniumConnection.connectToTerm(\"localhost\", \"ScriptRemote\")\n",
    "    \n",
    "    zahnerZennium = ThalesRemoteScriptWrapper(zenniumConnection)\n",
    "    zahnerZennium.forceThalesIntoRemoteScript()\n",
    "    \n",
    "    zahnerZennium.calibrateOffsets()"
   ]
  },
  {
   "cell_type": "markdown",
   "metadata": {},
   "source": [
    "Now the watch thread is started in the main process, which runs alongside."
   ]
  },
  {
   "cell_type": "code",
   "execution_count": 7,
   "metadata": {},
   "outputs": [
    {
     "name": "stdout",
     "output_type": "stream",
     "text": [
      "heartbeat thread started\n"
     ]
    }
   ],
   "source": [
    "    testThread = threading.Thread(target=watchThreadFunction)\n",
    "    testThread.start()\n",
    "    print(\"heartbeat thread started\")"
   ]
  },
  {
   "cell_type": "markdown",
   "metadata": {},
   "source": [
    "In the following, an impedance spectrum is simply measured as an example."
   ]
  },
  {
   "cell_type": "code",
   "execution_count": 8,
   "metadata": {},
   "outputs": [
    {
     "name": "stdout",
     "output_type": "stream",
     "text": [
      "measurement start\n",
      "active state: True\n",
      "beat count: 422\n",
      "active state: True\n",
      "beat count: 312\n",
      "active state: True\n",
      "beat count: 859\n",
      "active state: True\n",
      "beat count: 1875\n",
      "active state: True\n",
      "beat count: 2891\n",
      "active state: True\n",
      "beat count: 781\n",
      "active state: True\n",
      "beat count: 360\n",
      "active state: True\n",
      "beat count: 1375\n",
      "active state: True\n",
      "beat count: 860\n",
      "active state: True\n",
      "beat count: 437\n",
      "active state: True\n",
      "beat count: 31\n",
      "active state: True\n",
      "beat count: 1047\n",
      "active state: True\n",
      "beat count: 656\n",
      "active state: True\n",
      "beat count: 187\n",
      "active state: True\n",
      "beat count: 1203\n",
      "active state: True\n",
      "beat count: 765\n",
      "active state: True\n",
      "beat count: 328\n",
      "active state: True\n",
      "beat count: 1343\n",
      "active state: True\n",
      "beat count: 922\n",
      "active state: True\n",
      "beat count: 515\n",
      "active state: True\n",
      "beat count: 110\n",
      "active state: True\n",
      "beat count: 1125\n",
      "active state: True\n",
      "beat count: 672\n",
      "active state: True\n",
      "beat count: 218\n",
      "active state: True\n",
      "beat count: 1234\n",
      "active state: True\n",
      "beat count: 797\n",
      "active state: True\n",
      "beat count: 375\n",
      "active state: True\n",
      "beat count: 0\n",
      "active state: True\n",
      "beat count: 985\n",
      "active state: True\n",
      "beat count: 594\n",
      "active state: True\n",
      "beat count: 110\n",
      "active state: True\n",
      "beat count: 1141\n",
      "active state: True\n",
      "beat count: 671\n",
      "active state: True\n",
      "beat count: 234\n",
      "active state: True\n",
      "beat count: 1265\n",
      "active state: True\n",
      "beat count: 797\n",
      "active state: True\n",
      "beat count: 328\n",
      "active state: True\n",
      "beat count: 1344\n",
      "active state: True\n",
      "beat count: 953\n",
      "active state: True\n",
      "beat count: 547\n",
      "active state: True\n",
      "beat count: 109\n",
      "active state: True\n",
      "beat count: 1141\n",
      "active state: True\n",
      "beat count: 703\n",
      "active state: True\n",
      "beat count: 250\n",
      "active state: True\n",
      "beat count: 1282\n",
      "active state: True\n",
      "beat count: 812\n",
      "active state: True\n",
      "beat count: 406\n",
      "active state: True\n",
      "beat count: 15\n",
      "active state: True\n",
      "beat count: 1016\n",
      "active state: True\n",
      "beat count: 593\n",
      "active state: True\n",
      "beat count: 172\n",
      "active state: True\n",
      "beat count: 1187\n",
      "active state: True\n",
      "beat count: 734\n",
      "active state: True\n",
      "beat count: 281\n",
      "active state: True\n",
      "beat count: 1312\n",
      "active state: True\n",
      "beat count: 906\n",
      "active state: True\n",
      "beat count: 515\n",
      "active state: True\n",
      "beat count: 94\n",
      "active state: True\n",
      "beat count: 1125\n",
      "active state: True\n",
      "beat count: 688\n",
      "active state: True\n",
      "beat count: 234\n",
      "active state: True\n",
      "beat count: 1266\n",
      "active state: True\n",
      "beat count: 797\n",
      "active state: True\n",
      "beat count: 391\n",
      "active state: True\n",
      "beat count: 0\n",
      "active state: True\n",
      "beat count: 1031\n",
      "active state: True\n",
      "beat count: 609\n",
      "active state: True\n",
      "beat count: 188\n",
      "active state: True\n",
      "beat count: 1203\n",
      "active state: True\n",
      "beat count: 750\n",
      "active state: True\n",
      "beat count: 297\n",
      "active state: True\n",
      "beat count: 1328\n",
      "active state: True\n",
      "beat count: 0\n",
      "active state: True\n",
      "beat count: 16\n",
      "measurement end\n"
     ]
    },
    {
     "data": {
      "text/plain": [
       "'OK\\r'"
      ]
     },
     "execution_count": 8,
     "metadata": {},
     "output_type": "execute_result"
    }
   ],
   "source": [
    "    zahnerZennium.setPotentiostatMode(PotentiostatMode.POTMODE_POTENTIOSTATIC)\n",
    "    zahnerZennium.setAmplitude(10e-3)\n",
    "    zahnerZennium.setPotential(0)\n",
    "    zahnerZennium.setLowerFrequencyLimit(500)\n",
    "    zahnerZennium.setStartFrequency(1000)\n",
    "    zahnerZennium.setUpperFrequencyLimit(10000)\n",
    "    zahnerZennium.setLowerNumberOfPeriods(5)\n",
    "    zahnerZennium.setLowerStepsPerDecade(2)\n",
    "    zahnerZennium.setUpperNumberOfPeriods(20)\n",
    "    zahnerZennium.setUpperStepsPerDecade(20)\n",
    "    zahnerZennium.setScanDirection(\"startToMax\")\n",
    "    zahnerZennium.setScanStrategy(\"single\")\n",
    "\n",
    "    zahnerZennium.enablePotentiostat()\n",
    "    \n",
    "    zahnerZennium.setFrequency(1)\n",
    "    zahnerZennium.setAmplitude(10e-3)\n",
    "    zahnerZennium.setNumberOfPeriods(3)\n",
    "    \n",
    "    print(\"measurement start\")\n",
    "    zahnerZennium.measureEIS()\n",
    "    print(\"measurement end\")\n",
    "    \n",
    "    zahnerZennium.disablePotentiostat()"
   ]
  },
  {
   "cell_type": "markdown",
   "metadata": {},
   "source": [
    "Close the watch thread and wait until it is closed."
   ]
  },
  {
   "cell_type": "code",
   "execution_count": 9,
   "metadata": {},
   "outputs": [
    {
     "name": "stdout",
     "output_type": "stream",
     "text": [
      "active state: True\n",
      "thread kill\n",
      "beat count: 0\n",
      "thread killed\n"
     ]
    }
   ],
   "source": [
    "    print(\"thread kill\")\n",
    "    keepThreadRunning = False\n",
    "    testThread.join()\n",
    "    print(\"thread killed\")"
   ]
  },
  {
   "cell_type": "markdown",
   "metadata": {},
   "source": [
    "# Disconnect\n",
    "\n",
    "After the measurements are completed, the device switches back to the main potentiostat and the connection to the term is disconnected."
   ]
  },
  {
   "cell_type": "code",
   "execution_count": 10,
   "metadata": {},
   "outputs": [
    {
     "name": "stdout",
     "output_type": "stream",
     "text": [
      "finish\n"
     ]
    }
   ],
   "source": [
    "    zenniumConnection.disconnectFromTerm()\n",
    "    print(\"finish\")"
   ]
  }
 ],
 "metadata": {
  "kernelspec": {
   "display_name": "Python 3",
   "language": "python",
   "name": "python3"
  },
  "language_info": {
   "codemirror_mode": {
    "name": "ipython",
    "version": 3
   },
   "file_extension": ".py",
   "mimetype": "text/x-python",
   "name": "python",
   "nbconvert_exporter": "python",
   "pygments_lexer": "ipython3",
   "version": "3.11.1 (tags/v3.11.1:a7a450f, Dec  6 2022, 19:58:39) [MSC v.1934 64 bit (AMD64)]"
  },
  "orig_nbformat": 4,
  "vscode": {
   "interpreter": {
    "hash": "5238573367df39f7286bb46f9ff5f08f63a01a80960060ce41e3c79b190280fa"
   }
  }
 },
 "nbformat": 4,
 "nbformat_minor": 2
}
