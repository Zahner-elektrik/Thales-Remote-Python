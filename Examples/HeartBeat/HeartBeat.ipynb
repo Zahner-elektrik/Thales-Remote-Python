{
 "cells": [
  {
   "attachments": {},
   "cell_type": "markdown",
   "metadata": {},
   "source": [
    "# Workstation Heartbeat\n",
    "\n",
    "This example shows how in a separate thread from the Term the HeartBeat can be queried with Python. The HeartBeat is queried in a separate thread once a second.\n",
    "\n",
    "The HeartBeat represents how many milliseconds it has been since the Term has received something from the Thales."
   ]
  },
  {
   "cell_type": "code",
   "execution_count": 1,
   "metadata": {},
   "outputs": [],
   "source": [
    "import sys\n",
    "from thales_remote.connection import ThalesRemoteConnection\n",
    "from thales_remote.script_wrapper import PotentiostatMode, ThalesRemoteScriptWrapper\n",
    "import time\n",
    "import threading\n",
    "\n",
    "keepThreadRunning = True"
   ]
  },
  {
   "attachments": {},
   "cell_type": "markdown",
   "metadata": {},
   "source": [
    "# Watch Thread\n",
    "The following function is used as a thread, in which the HearBeat is queried once a second. The HeartBeat time varies, for example, if EIS is measured at low frequencies, then this time is increased.\n",
    "\n",
    "With getTermIsActive() it is checked with timeout whether the Term software still answers, since beside Thales also the Term could have crashed."
   ]
  },
  {
   "cell_type": "code",
   "execution_count": 2,
   "metadata": {},
   "outputs": [],
   "source": [
    "def watchThreadFunction():\n",
    "    global keepThreadRunning\n",
    "\n",
    "    zenniumConnection = ThalesRemoteConnection()\n",
    "    zenniumConnection.connectToTerm(\"localhost\", \"Watch\")\n",
    "\n",
    "    zahnerZennium = ThalesRemoteScriptWrapper(zenniumConnection)\n",
    "\n",
    "    while keepThreadRunning:\n",
    "        time.sleep(1)\n",
    "        active = zahnerZennium.getTermIsActive()\n",
    "        print(\"active state: \" + str(active))\n",
    "        if active:\n",
    "            print(\"beat count: \" + str(zahnerZennium.getWorkstationHeartBeat()))\n",
    "    zenniumConnection.disconnectFromTerm()\n",
    "    return"
   ]
  },
  {
   "attachments": {},
   "cell_type": "markdown",
   "metadata": {},
   "source": [
    "# Main Program Sequence\n",
    "\n",
    "The following is the main program flow, alongside which the Watch Thread runs. Here we simply measure something as an example."
   ]
  },
  {
   "cell_type": "code",
   "execution_count": 3,
   "metadata": {},
   "outputs": [
    {
     "name": "stdout",
     "output_type": "stream",
     "text": [
      "devel version\n"
     ]
    }
   ],
   "source": [
    "if __name__ == \"__main__\":\n",
    "    zenniumConnection = ThalesRemoteConnection()\n",
    "    zenniumConnection.connectToTerm(\"localhost\", \"ScriptRemote\")\n",
    "\n",
    "    zahnerZennium = ThalesRemoteScriptWrapper(zenniumConnection)\n",
    "    zahnerZennium.forceThalesIntoRemoteScript()\n",
    "\n",
    "    zahnerZennium.calibrateOffsets()"
   ]
  },
  {
   "attachments": {},
   "cell_type": "markdown",
   "metadata": {},
   "source": [
    "Now the watch thread is started in the main process, which runs alongside."
   ]
  },
  {
   "cell_type": "code",
   "execution_count": 4,
   "metadata": {},
   "outputs": [
    {
     "name": "stdout",
     "output_type": "stream",
     "text": [
      "heartbeat thread started\n"
     ]
    }
   ],
   "source": [
    "testThread = threading.Thread(target=watchThreadFunction)\n",
    "testThread.start()\n",
    "print(\"heartbeat thread started\")"
   ]
  },
  {
   "attachments": {},
   "cell_type": "markdown",
   "metadata": {},
   "source": [
    "In the following, an impedance spectrum is simply measured as an example."
   ]
  },
  {
   "cell_type": "code",
   "execution_count": 5,
   "metadata": {},
   "outputs": [
    {
     "name": "stdout",
     "output_type": "stream",
     "text": [
      "measurement start\n",
      "devel version\n",
      "active state: True\n",
      "beat count: 547.0\n",
      "active state: True\n",
      "beat count: 766.0\n",
      "active state: True\n",
      "beat count: 16.0\n",
      "active state: True\n",
      "beat count: 1032.0\n",
      "active state: True\n",
      "beat count: 140.0\n",
      "active state: True\n",
      "beat count: 1140.0\n",
      "active state: True\n",
      "beat count: 578.0\n",
      "active state: True\n",
      "beat count: 0.0\n",
      "active state: True\n",
      "beat count: 1000.0\n",
      "active state: True\n",
      "beat count: 500.0\n",
      "active state: True\n",
      "beat count: 32.0\n",
      "active state: True\n",
      "beat count: 1032.0\n",
      "active state: True\n",
      "beat count: 578.0\n",
      "active state: True\n",
      "beat count: 0.0\n",
      "active state: True\n",
      "beat count: 984.0\n",
      "active state: True\n",
      "beat count: 406.0\n",
      "active state: True\n",
      "beat count: 219.0\n",
      "active state: True\n",
      "beat count: 875.0\n",
      "active state: True\n",
      "beat count: 375.0\n",
      "active state: True\n",
      "beat count: 203.0\n",
      "active state: True\n",
      "beat count: 906.0\n",
      "active state: True\n",
      "beat count: 422.0\n",
      "active state: True\n",
      "beat count: 234.0\n",
      "active state: True\n",
      "beat count: 844.0\n",
      "active state: True\n",
      "beat count: 250.0\n",
      "active state: True\n",
      "beat count: 62.0\n",
      "active state: True\n",
      "beat count: 703.0\n",
      "active state: True\n",
      "beat count: 188.0\n",
      "active state: True\n",
      "beat count: 0.0\n",
      "active state: True\n",
      "beat count: 703.0\n",
      "active state: True\n",
      "beat count: 250.0\n",
      "active state: True\n",
      "beat count: 63.0\n",
      "active state: True\n",
      "beat count: 641.0\n",
      "active state: True\n",
      "beat count: 62.0\n",
      "active state: True\n",
      "beat count: 1062.0\n",
      "active state: True\n",
      "beat count: 500.0\n",
      "active state: True\n",
      "beat count: 313.0\n",
      "active state: True\n",
      "beat count: 922.0\n",
      "active state: True\n",
      "beat count: 297.0\n",
      "active state: True\n",
      "beat count: 125.0\n",
      "active state: True\n",
      "beat count: 843.0\n",
      "active state: True\n",
      "beat count: 343.0\n",
      "active state: True\n",
      "beat count: 156.0\n",
      "active state: True\n",
      "beat count: 828.0\n",
      "active state: True\n",
      "beat count: 297.0\n",
      "active state: True\n",
      "beat count: 109.0\n",
      "active state: True\n",
      "beat count: 734.0\n",
      "active state: True\n",
      "beat count: 125.0\n",
      "active state: True\n",
      "beat count: 1125.0\n",
      "active state: True\n",
      "beat count: 656.0\n",
      "active state: True\n",
      "beat count: 172.0\n",
      "active state: True\n",
      "beat count: 1187.0\n",
      "active state: True\n",
      "beat count: 672.0\n",
      "active state: True\n",
      "beat count: 141.0\n",
      "active state: True\n",
      "beat count: 1156.0\n",
      "active state: True\n",
      "beat count: 594.0\n",
      "active state: True\n",
      "beat count: 0.0\n",
      "active state: True\n",
      "beat count: 1000.0\n",
      "active state: True\n",
      "beat count: 532.0\n",
      "active state: True\n",
      "beat count: 62.0\n",
      "active state: True\n",
      "beat count: 1078.0\n",
      "active state: True\n",
      "beat count: 579.0\n",
      "active state: True\n",
      "beat count: 47.0\n",
      "active state: True\n",
      "beat count: 1062.0\n",
      "active state: True\n",
      "beat count: 516.0\n",
      "active state: True\n",
      "beat count: 328.0\n",
      "active state: True\n",
      "beat count: 937.0\n",
      "active state: True\n",
      "beat count: 469.0\n",
      "active state: True\n",
      "beat count: 16.0\n",
      "active state: True\n",
      "beat count: 1016.0\n",
      "active state: True\n",
      "beat count: 500.0\n",
      "active state: True\n",
      "beat count: 16.0\n",
      "active state: True\n",
      "beat count: 1000.0\n",
      "active state: True\n",
      "beat count: 454.0\n",
      "active state: True\n",
      "beat count: 265.0\n",
      "active state: True\n",
      "beat count: 875.0\n",
      "active state: True\n",
      "beat count: 250.0\n",
      "active state: True\n",
      "beat count: 15.0\n",
      "active state: True\n",
      "beat count: 0.0\n",
      "active state: True\n",
      "beat count: 16.0\n",
      "active state: True\n",
      "beat count: 0.0\n",
      "active state: True\n",
      "beat count: 172.0\n",
      "active state: True\n",
      "beat count: 234.0\n",
      "active state: True\n",
      "beat count: 16.0\n",
      "active state: True\n",
      "beat count: 15.0\n",
      "active state: True\n",
      "beat count: 15.0\n",
      "measurement end\n"
     ]
    },
    {
     "data": {
      "text/plain": [
       "'OK\\r'"
      ]
     },
     "execution_count": 5,
     "metadata": {},
     "output_type": "execute_result"
    }
   ],
   "source": [
    "zahnerZennium.setPotentiostatMode(PotentiostatMode.POTMODE_POTENTIOSTATIC)\n",
    "zahnerZennium.setAmplitude(10e-3)\n",
    "zahnerZennium.setPotential(0)\n",
    "zahnerZennium.setLowerFrequencyLimit(500)\n",
    "zahnerZennium.setStartFrequency(1000)\n",
    "zahnerZennium.setUpperFrequencyLimit(10000)\n",
    "zahnerZennium.setLowerNumberOfPeriods(5)\n",
    "zahnerZennium.setLowerStepsPerDecade(2)\n",
    "zahnerZennium.setUpperNumberOfPeriods(20)\n",
    "zahnerZennium.setUpperStepsPerDecade(20)\n",
    "zahnerZennium.setScanDirection(\"startToMax\")\n",
    "zahnerZennium.setScanStrategy(\"single\")\n",
    "\n",
    "zahnerZennium.enablePotentiostat()\n",
    "\n",
    "zahnerZennium.setFrequency(1)\n",
    "zahnerZennium.setAmplitude(10e-3)\n",
    "zahnerZennium.setNumberOfPeriods(3)\n",
    "\n",
    "print(\"measurement start\")\n",
    "zahnerZennium.measureEIS()\n",
    "print(\"measurement end\")\n",
    "\n",
    "zahnerZennium.disablePotentiostat()"
   ]
  },
  {
   "attachments": {},
   "cell_type": "markdown",
   "metadata": {},
   "source": [
    "Close the watch thread and wait until it is closed."
   ]
  },
  {
   "cell_type": "code",
   "execution_count": 6,
   "metadata": {},
   "outputs": [
    {
     "name": "stdout",
     "output_type": "stream",
     "text": [
      "thread kill\n",
      "active state: True\n",
      "beat count: 0.0\n",
      "thread killed\n"
     ]
    }
   ],
   "source": [
    "print(\"thread kill\")\n",
    "keepThreadRunning = False\n",
    "testThread.join()\n",
    "print(\"thread killed\")"
   ]
  },
  {
   "attachments": {},
   "cell_type": "markdown",
   "metadata": {},
   "source": [
    "# Disconnect\n",
    "\n",
    "After the measurements are completed, the device switches back to the main potentiostat and the connection to the term is disconnected."
   ]
  },
  {
   "cell_type": "code",
   "execution_count": 7,
   "metadata": {},
   "outputs": [
    {
     "name": "stdout",
     "output_type": "stream",
     "text": [
      "finish\n"
     ]
    }
   ],
   "source": [
    "zenniumConnection.disconnectFromTerm()\n",
    "print(\"finish\")"
   ]
  }
 ],
 "metadata": {
  "kernelspec": {
   "display_name": "Python 3",
   "language": "python",
   "name": "python3"
  },
  "language_info": {
   "codemirror_mode": {
    "name": "ipython",
    "version": 3
   },
   "file_extension": ".py",
   "mimetype": "text/x-python",
   "name": "python",
   "nbconvert_exporter": "python",
   "pygments_lexer": "ipython3",
   "version": "3.11.3"
  },
  "orig_nbformat": 4,
  "vscode": {
   "interpreter": {
    "hash": "5238573367df39f7286bb46f9ff5f08f63a01a80960060ce41e3c79b190280fa"
   }
  }
 },
 "nbformat": 4,
 "nbformat_minor": 2
}
