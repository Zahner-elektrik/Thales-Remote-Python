{
 "cells": [
  {
   "attachments": {},
   "cell_type": "markdown",
   "metadata": {},
   "source": [
    "# Workstation Heartbeat and Live Data\n",
    "\n",
    "This example shows how in a separate thread from the term the HeartBeat can be queried with Python. The heartbeat is queried in a separate thread once a second. The HeartBeat represents how many milliseconds it has been since the term has received something from the Thales.\n",
    "\n",
    "This example also receives the live data. To receive the online display data, the Zahner online display must be switched off.\n",
    "To do this, the following parameter must be adapted in the file C:/FLINK/usb.ini EnableODisplay=off."
   ]
  },
  {
   "cell_type": "code",
   "execution_count": 9,
   "metadata": {},
   "outputs": [],
   "source": [
    "import sys\n",
    "from thales_remote.connection import ThalesRemoteConnection\n",
    "from thales_remote.script_wrapper import PotentiostatMode, ThalesRemoteScriptWrapper\n",
    "import time\n",
    "import threading\n",
    "\n",
    "zenniumConnectionLiveData = None\n",
    "\n",
    "keepThreadRunning = True"
   ]
  },
  {
   "attachments": {},
   "cell_type": "markdown",
   "metadata": {},
   "source": [
    "# Watch Thread\n",
    "The following function is used as a thread, in which the HearBeat is queried once a second. The HeartBeat time varies, for example, if EIS is measured at low frequencies, then this time is increased.\n",
    "\n",
    "The HeartBeat is queried once per second. A timeout of 2 seconds is used to query the HeartBeat. This ensures that the Term responds within 2 seconds, otherwise it can be assumed that the Term software has crashed."
   ]
  },
  {
   "cell_type": "code",
   "execution_count": 10,
   "metadata": {},
   "outputs": [],
   "source": [
    "def watchThreadFunction():\n",
    "    global keepThreadRunning\n",
    "\n",
    "    zenniumConnection = ThalesRemoteConnection()\n",
    "    zenniumConnection.connectToTerm(\"localhost\", \"Watch\")\n",
    "\n",
    "    zahnerZennium = ThalesRemoteScriptWrapper(zenniumConnection)\n",
    "\n",
    "    while keepThreadRunning:\n",
    "        time.sleep(1)\n",
    "        active = zahnerZennium.getTermIsActive()\n",
    "        print(\"active state: \" + str(active))\n",
    "        if active:\n",
    "            print(\"beat count: \" + str(zahnerZennium.getWorkstationHeartBeat()))\n",
    "    zenniumConnection.disconnectFromTerm()\n",
    "    return"
   ]
  },
  {
   "attachments": {},
   "cell_type": "markdown",
   "metadata": {},
   "source": [
    "# Live Data Thread\n",
    "The following function is used as a thread which receives the live data instead of the online display.\n",
    "\n",
    "Only relevant packet types are output to the console. The relevant types are written as comments in the source code."
   ]
  },
  {
   "cell_type": "code",
   "execution_count": 11,
   "metadata": {},
   "outputs": [],
   "source": [
    "def liveDataThreadFunction():\n",
    "    global keepThreadRunning\n",
    "    global zenniumConnectionLiveData\n",
    "\n",
    "    print(\"live thread started\")\n",
    "    while keepThreadRunning:\n",
    "        try:\n",
    "            data = zenniumConnectionLiveData.waitForBinaryTelegram()\n",
    "            packetId = data[0]\n",
    "            data = data[1:]\n",
    "            \"\"\"\n",
    "            Type:\n",
    "            1 = Init measurement begin\n",
    "            2 = Measurement end\n",
    "            4 = Measurement data names\n",
    "            5 = Measurement data units\n",
    "            6 = ASCII data\n",
    "            \"\"\"\n",
    "            if packetId in [1, 2, 4, 5, 6]:\n",
    "                print(data.decode(\"ASCII\"))\n",
    "        except:\n",
    "            \"\"\"\n",
    "            The connection to the term has an error or the socket has been closed.\n",
    "            \"\"\"\n",
    "            print(\"term error live thread\")\n",
    "            keepThreadRunning = False\n",
    "\n",
    "    print(\"live thread left\")\n",
    "    return"
   ]
  },
  {
   "attachments": {},
   "cell_type": "markdown",
   "metadata": {},
   "source": [
    "# Main Program Sequence\n",
    "\n",
    "In the main program flow, the first thing that happens is that an additional connection to the Term is established with the name \"Logging\". The live data comes via this connection. For this to be possible, the entry EnableODisplay=off must be set in the file \"C:\\FLINK\\usb.ini\". And the actual Zahner Online Display must be closed.\n",
    "\n",
    "Then the thread is started, which receives the data."
   ]
  },
  {
   "cell_type": "code",
   "execution_count": 12,
   "metadata": {},
   "outputs": [
    {
     "name": "stdout",
     "output_type": "stream",
     "text": [
      "live thread started\n"
     ]
    }
   ],
   "source": [
    "if __name__ == \"__main__\":\n",
    "    zenniumConnectionLiveData = ThalesRemoteConnection()\n",
    "    zenniumConnectionLiveData.connectToTerm(\"localhost\", \"Logging\")\n",
    "\n",
    "    liveThread = threading.Thread(target=liveDataThreadFunction)\n",
    "    liveThread.start()"
   ]
  },
  {
   "attachments": {},
   "cell_type": "markdown",
   "metadata": {},
   "source": [
    "After the connection with the live data, the nominal connection is established, which sends the commands for measurement.\n",
    "\n",
    "In addition, the [hideWindow()](https://doc.zahner.de/thales_remote/script_wrapper.html#thales_remote.script_wrapper.ThalesRemoteScriptWrapper.hideWindow) method hides the Thales window to protect it from unwanted operation via GUI when controlled remotely."
   ]
  },
  {
   "cell_type": "code",
   "execution_count": 13,
   "metadata": {},
   "outputs": [
    {
     "name": "stdout",
     "output_type": "stream",
     "text": [
      "devel version\n"
     ]
    },
    {
     "data": {
      "text/plain": [
       "'OK\\r'"
      ]
     },
     "execution_count": 13,
     "metadata": {},
     "output_type": "execute_result"
    }
   ],
   "source": [
    "zenniumConnection = ThalesRemoteConnection()\n",
    "zenniumConnection.connectToTerm(\"localhost\", \"ScriptRemote\")\n",
    "\n",
    "zahnerZennium = ThalesRemoteScriptWrapper(zenniumConnection)\n",
    "zahnerZennium.forceThalesIntoRemoteScript()\n",
    "zahnerZennium.hideWindow()\n",
    "\n",
    "zahnerZennium.calibrateOffsets()"
   ]
  },
  {
   "attachments": {},
   "cell_type": "markdown",
   "metadata": {},
   "source": [
    "The watch thread uses the command interface to the Thales, so it is started after initializing this connection."
   ]
  },
  {
   "cell_type": "code",
   "execution_count": 14,
   "metadata": {},
   "outputs": [
    {
     "name": "stdout",
     "output_type": "stream",
     "text": [
      "measurement start\n",
      "3,Impedance Spectroscopy\n",
      "devel version\n",
      "frequency,impedance,phase,time,significance,voltage,current,\n",
      "Hz,Ohm,rad,s, ,V,A,\n",
      "active state: True\n",
      "beat count: 281.0\n",
      "active state: True\n",
      "beat count: 187.0\n",
      "active state: True\n",
      "beat count: 78.0\n",
      "active state: True\n",
      "beat count: 516.0\n",
      " 1.00940e+03, 1.07426e+06,-1.55002e+00, 0.00000e+00, 9.99000e-01,-2.90489e-05,-2.76135e-12,\n",
      "active state: True\n",
      "beat count: 0.0\n",
      " 1.11450e+03, 9.74292e+05,-1.55009e+00, 2.41300e+00, 1.00000e+00,-2.90489e-05,-2.76135e-12,\n",
      " 1.23050e+03, 8.82627e+05,-1.55028e+00, 2.77350e+00, 1.00000e+00,-2.90489e-05,-2.76135e-12,\n",
      "active state: True\n",
      "beat count: 156.0\n",
      " 1.35860e+03, 7.99644e+05,-1.54934e+00, 3.20000e+00, 1.00000e+00,-2.90489e-05,-2.76135e-12,\n",
      " 1.50000e+03, 7.25203e+05,-1.55006e+00, 3.55650e+00, 9.99000e-01,-2.90489e-05,-2.76135e-12,\n",
      " 1.35860e+03, 7.98927e+05,-1.55026e+00, 3.91350e+00, 9.99000e-01,-2.90489e-05,-2.76135e-12,\n",
      "active state: True\n",
      "beat count: 110.0\n",
      " 1.23050e+03, 8.81829e+05,-1.55050e+00, 4.27150e+00, 9.99000e-01,-2.90489e-05,-2.76135e-12,\n",
      " 1.11450e+03, 9.73490e+05,-1.55080e+00, 4.63100e+00, 1.00000e+00,-2.90489e-05,-2.76135e-12,\n",
      " 1.00940e+03, 1.07459e+06,-1.54992e+00, 4.99350e+00, 9.99000e-01,-2.90489e-05,-2.76135e-12,\n",
      "active state: True\n",
      "beat count: 31.0\n",
      " 9.14260e+02, 1.18592e+06,-1.55032e+00, 5.35150e+00, 9.99000e-01,-2.90489e-05,-2.76135e-12,\n",
      " 8.28070e+02, 1.30752e+06,-1.54846e+00, 5.70450e+00, 9.99000e-01,-2.90489e-05,-2.76135e-12,\n",
      " 7.50000e+02, 1.44394e+06,-1.54863e+00, 6.05950e+00, 9.99000e-01,-2.90489e-05,-2.76135e-12,\n",
      "active state: True\n",
      "beat count: 0.0\n",
      "Impedance Spectroscopy finished!\n",
      "active state: True\n",
      "beat count: 109.0\n",
      "active state: True\n",
      "beat count: 15.0\n",
      "active state: True\n",
      "beat count: 16.0\n",
      "active state: True\n",
      "beat count: 94.0\n",
      "active state: True\n",
      "beat count: 110.0\n",
      "active state: True\n",
      "beat count: 94.0\n",
      "measurement end\n"
     ]
    },
    {
     "data": {
      "text/plain": [
       "'OK\\r'"
      ]
     },
     "execution_count": 14,
     "metadata": {},
     "output_type": "execute_result"
    }
   ],
   "source": [
    "watchThread = threading.Thread(target=watchThreadFunction)\n",
    "watchThread.start()\n",
    "\n",
    "zahnerZennium.setPotentiostatMode(PotentiostatMode.POTMODE_POTENTIOSTATIC)\n",
    "zahnerZennium.setAmplitude(10e-3)\n",
    "zahnerZennium.setPotential(0)\n",
    "zahnerZennium.setLowerFrequencyLimit(750)\n",
    "zahnerZennium.setStartFrequency(1000)\n",
    "zahnerZennium.setUpperFrequencyLimit(1500)\n",
    "zahnerZennium.setLowerNumberOfPeriods(2)\n",
    "zahnerZennium.setLowerStepsPerDecade(2)\n",
    "zahnerZennium.setUpperNumberOfPeriods(2)\n",
    "zahnerZennium.setUpperStepsPerDecade(20)\n",
    "zahnerZennium.setScanDirection(\"startToMax\")\n",
    "zahnerZennium.setScanStrategy(\"single\")\n",
    "\n",
    "zahnerZennium.enablePotentiostat()\n",
    "\n",
    "\n",
    "zahnerZennium.setFrequency(1)\n",
    "zahnerZennium.setAmplitude(10e-3)\n",
    "zahnerZennium.setNumberOfPeriods(3)\n",
    "\n",
    "print(\"measurement start\")\n",
    "\n",
    "zahnerZennium.measureEIS()\n",
    "for i in range(20):\n",
    "    zahnerZennium.getPotential()\n",
    "    zahnerZennium.setPotential(0)\n",
    "\n",
    "print(\"measurement end\")\n",
    "\n",
    "zahnerZennium.disablePotentiostat()"
   ]
  },
  {
   "attachments": {},
   "cell_type": "markdown",
   "metadata": {},
   "source": [
    "Closing the threads and then waiting until they are closed.\n",
    "\n",
    "Before the connection is disconnected, the Thales window is displayed again."
   ]
  },
  {
   "cell_type": "code",
   "execution_count": 15,
   "metadata": {},
   "outputs": [
    {
     "name": "stdout",
     "output_type": "stream",
     "text": [
      "active state: True\n",
      "beat count: 15.0\n",
      "set thread kill flag\n",
      "disconnect connections\n",
      "term error live thread\n",
      "live thread left\n",
      "active state: True\n",
      "beat count: 78.0\n",
      "join the threads\n",
      "finish\n"
     ]
    }
   ],
   "source": [
    "print(\"set thread kill flag\")\n",
    "keepThreadRunning = False\n",
    "\n",
    "print(\"disconnect connections\")\n",
    "zahnerZennium.showWindow()\n",
    "zenniumConnection.disconnectFromTerm()\n",
    "zenniumConnectionLiveData.disconnectFromTerm()\n",
    "\n",
    "print(\"join the threads\")\n",
    "liveThread.join()\n",
    "watchThread.join()\n",
    "\n",
    "print(\"finish\")"
   ]
  }
 ],
 "metadata": {
  "kernelspec": {
   "display_name": "Python 3",
   "language": "python",
   "name": "python3"
  },
  "language_info": {
   "codemirror_mode": {
    "name": "ipython",
    "version": 3
   },
   "file_extension": ".py",
   "mimetype": "text/x-python",
   "name": "python",
   "nbconvert_exporter": "python",
   "pygments_lexer": "ipython3",
   "version": "3.11.3"
  },
  "orig_nbformat": 4,
  "vscode": {
   "interpreter": {
    "hash": "5238573367df39f7286bb46f9ff5f08f63a01a80960060ce41e3c79b190280fa"
   }
  }
 },
 "nbformat": 4,
 "nbformat_minor": 2
}
