{
 "cells": [
  {
   "cell_type": "markdown",
   "metadata": {},
   "source": [
    "# Workstation Heartbeat and Live Data\n",
    "\n",
    "This example shows how in a separate thread from the term the HeartBeat can be queried with Python. The heartbeat is queried in a separate thread once a second. The HeartBeat represents how many milliseconds it has been since the term has received something from the Thales.\n",
    "\n",
    "This example also receives the live data. To receive the online display data, the Zahner online display must be switched off.\n",
    "To do this, the following parameter must be adapted in the file C:/FLINK/usb.ini EnableODisplay=off."
   ]
  },
  {
   "cell_type": "code",
   "execution_count": 10,
   "metadata": {},
   "outputs": [],
   "source": [
    "import sys\n",
    "from thales_remote.connection import ThalesRemoteConnection\n",
    "from thales_remote.script_wrapper import PotentiostatMode,ThalesRemoteScriptWrapper\n",
    "import time\n",
    "import threading"
   ]
  },
  {
   "cell_type": "markdown",
   "metadata": {},
   "source": [
    "It is not a clean solution that the connections are global variables.\n",
    "This was solved for a simpler example with global variables."
   ]
  },
  {
   "cell_type": "code",
   "execution_count": 11,
   "metadata": {},
   "outputs": [],
   "source": [
    "zenniumConnection = None\n",
    "zahnerZennium = None\n",
    "zenniumConnectionLiveData = None\n",
    "\n",
    "keepThreadRunning = True"
   ]
  },
  {
   "cell_type": "markdown",
   "metadata": {},
   "source": [
    "# Watch Thread\n",
    "The following function is used as a thread, in which the HearBeat is queried once a second. The HeartBeat time varies, for example, if EIS is measured at low frequencies, then this time is increased.\n",
    "\n",
    "The HeartBeat is queried once per second. A timeout of 2 seconds is used to query the HeartBeat. This ensures that the Term responds within 2 seconds, otherwise it can be assumed that the Term software has crashed."
   ]
  },
  {
   "cell_type": "code",
   "execution_count": 12,
   "metadata": {},
   "outputs": [],
   "source": [
    "def watchThreadFunction():\n",
    "    global keepThreadRunning\n",
    "    global zenniumConnection\n",
    "    global zahnerZennium\n",
    "    \n",
    "    print(\"watch thread started\")\n",
    "    while keepThreadRunning:\n",
    "        time.sleep(1)\n",
    "        try:\n",
    "            beat = zahnerZennium.getWorkstationHeartBeat(2)\n",
    "        except:\n",
    "            print(\"term error watch thread\")\n",
    "            keepThreadRunning = False\n",
    "        else:\n",
    "            print(\"Heartbeat: \" + str(beat) + \" ms\")\n",
    "    \n",
    "    print(\"watch thread left\")\n",
    "    return"
   ]
  },
  {
   "cell_type": "markdown",
   "metadata": {},
   "source": [
    "# Live Data Thread\n",
    "The following function is used as a thread which receives the live data instead of the online display.\n",
    "\n",
    "Only relevant packet types are output to the console. The relevant types are written as comments in the source code."
   ]
  },
  {
   "cell_type": "code",
   "execution_count": 13,
   "metadata": {},
   "outputs": [],
   "source": [
    "def liveDataThreadFunction():\n",
    "    global keepThreadRunning\n",
    "    global zenniumConnectionLiveData\n",
    "    \n",
    "    print(\"live thread started\")\n",
    "    while keepThreadRunning:\n",
    "        try:\n",
    "            data = zenniumConnectionLiveData.waitForBinaryTelegram()\n",
    "            packetId = data[0]\n",
    "            data = data[1:]\n",
    "            '''\n",
    "            Type:\n",
    "            1 = Init measurement begin\n",
    "            2 = Measurement end\n",
    "            4 = Measurement data names\n",
    "            5 = Measurement data units\n",
    "            6 = ASCII data\n",
    "            '''\n",
    "            if packetId in [1,2,4,5,6]:\n",
    "                print(data.decode(\"ASCII\"))\n",
    "        except:\n",
    "            '''\n",
    "            The connection to the term has an error or the socket has been closed.\n",
    "            '''\n",
    "            print(\"term error live thread\")\n",
    "            keepThreadRunning = False\n",
    "    \n",
    "    print(\"live thread left\")\n",
    "    return"
   ]
  },
  {
   "cell_type": "markdown",
   "metadata": {},
   "source": [
    "# Main Program Sequence\n",
    "\n",
    "In the main program flow, the first thing that happens is that an additional connection to the term is established with the name \"Logging\". The live data comes via this connection.\n",
    "\n",
    "Then the thread is started, which receives the data."
   ]
  },
  {
   "cell_type": "code",
   "execution_count": null,
   "metadata": {},
   "outputs": [],
   "source": [
    "if __name__ == \"__main__\":\n",
    "    zenniumConnectionLiveData = ThalesRemoteConnection()\n",
    "    zenniumConnectionLiveData.connectToTerm(\"localhost\", \"Logging\")\n",
    "        \n",
    "    \n",
    "    liveThread = threading.Thread(target=liveDataThreadFunction)\n",
    "    liveThread.start()"
   ]
  },
  {
   "cell_type": "markdown",
   "metadata": {},
   "source": [
    "After the connection with the live data, the nominal connection is established, which sends the commands for measurement."
   ]
  },
  {
   "cell_type": "code",
   "execution_count": null,
   "metadata": {},
   "outputs": [],
   "source": [
    "    zenniumConnection = ThalesRemoteConnection()\n",
    "    zenniumConnection.connectToTerm(\"localhost\", \"ScriptRemote\")\n",
    "        \n",
    "    zahnerZennium = ThalesRemoteScriptWrapper(zenniumConnection)\n",
    "    zahnerZennium.forceThalesIntoRemoteScript()\n",
    "    \n",
    "    zahnerZennium.calibrateOffsets()"
   ]
  },
  {
   "cell_type": "markdown",
   "metadata": {},
   "source": [
    "The watch thread uses the command interface to the Thales, so it is started after initializing this connection."
   ]
  },
  {
   "cell_type": "code",
   "execution_count": 16,
   "metadata": {},
   "outputs": [
    {
     "name": "stdout",
     "output_type": "stream",
     "text": [
      "watch thread started\n",
      "measurement start\n",
      "Heartbeat: 359 ms\n",
      "3,Impedance Spectroscopy\n",
      "frequency,impedance,phase,time,significance,voltage,current,\n",
      "Hz,Ohm,rad,s, ,V,A,\n",
      "Heartbeat: 250 ms\n",
      "Heartbeat: 766 ms\n",
      "Heartbeat: 1781 ms\n",
      " 1.00940e+03, 7.65470e+02,-1.55905e-02, 0.00000e+00, 9.95000e-01, 2.52615e-02,-2.01349e-06,\n",
      "Heartbeat: 0 ms\n",
      "Heartbeat: 954 ms\n",
      " 1.11450e+03, 7.56186e+02,-1.81091e-02, 2.13700e+00, 9.94000e-01, 2.52615e-02,-2.01331e-06,\n",
      "Heartbeat: 594 ms\n",
      " 1.23050e+03, 7.69415e+02,-1.18808e-02, 3.49100e+00, 9.97000e-01, 2.52615e-02,-2.01360e-06,\n",
      "Heartbeat: 172 ms\n",
      "Heartbeat: 1172 ms\n",
      " 1.35860e+03, 7.77636e+02,-8.49820e-03, 4.90950e+00, 9.96000e-01, 2.52615e-02,-2.01254e-06,\n",
      "Heartbeat: 829 ms\n",
      " 1.50000e+03, 7.61770e+02,-2.04173e-02, 6.25850e+00, 9.96000e-01, 2.52615e-02,-2.01279e-06,\n",
      "Heartbeat: 484 ms\n",
      " 1.35860e+03, 7.59320e+02,-1.62248e-02, 7.60700e+00, 9.96000e-01, 2.52615e-02,-2.01160e-06,\n",
      "Heartbeat: 140 ms\n",
      "Heartbeat: 1140 ms\n",
      " 1.23050e+03, 7.63513e+02,-1.44088e-02, 8.95800e+00, 9.95000e-01, 2.52615e-02,-2.01110e-06,\n",
      "Heartbeat: 797 ms\n",
      " 1.11450e+03, 7.68399e+02,-2.44866e-02, 1.03110e+01, 9.97000e-01, 2.52615e-02,-2.01219e-06,\n",
      "Heartbeat: 453 ms\n",
      " 1.00940e+03, 7.61323e+02,-3.11624e-02, 1.16665e+01, 9.94000e-01, 2.52615e-02,-2.01113e-06,\n",
      "Heartbeat: 94 ms\n",
      "Heartbeat: 1094 ms\n",
      " 9.14260e+02, 7.53671e+02,-2.72892e-02, 1.30170e+01, 9.92000e-01, 2.52615e-02,-2.01273e-06,\n",
      "Heartbeat: 750 ms\n",
      " 8.28070e+02, 7.59486e+02,-1.29333e-02, 1.43625e+01, 9.91000e-01, 2.52615e-02,-2.01286e-06,\n",
      "Heartbeat: 421 ms\n",
      " 7.50000e+02, 7.49419e+02, 7.14310e-03, 1.57110e+01, 9.89000e-01, 2.52615e-02,-2.01536e-06,\n",
      "Impedance Spectroscopy finished!\n",
      "Heartbeat: 62 ms\n",
      "Heartbeat: 16 ms\n",
      "Heartbeat: 172 ms\n",
      "Heartbeat: 47 ms\n",
      "Heartbeat: 31 ms\n",
      "Heartbeat: 47 ms\n",
      "measurement end\n"
     ]
    },
    {
     "data": {
      "text/plain": [
       "'OK\\r'"
      ]
     },
     "execution_count": 16,
     "metadata": {},
     "output_type": "execute_result"
    }
   ],
   "source": [
    "    watchThread = threading.Thread(target=watchThreadFunction)\n",
    "    watchThread.start()\n",
    "    \n",
    "    zahnerZennium.setPotentiostatMode(PotentiostatMode.POTMODE_POTENTIOSTATIC)\n",
    "    zahnerZennium.setAmplitude(10e-3)\n",
    "    zahnerZennium.setPotential(0)\n",
    "    zahnerZennium.setLowerFrequencyLimit(750)\n",
    "    zahnerZennium.setStartFrequency(1000)\n",
    "    zahnerZennium.setUpperFrequencyLimit(1500)\n",
    "    zahnerZennium.setLowerNumberOfPeriods(2)\n",
    "    zahnerZennium.setLowerStepsPerDecade(2)\n",
    "    zahnerZennium.setUpperNumberOfPeriods(2)\n",
    "    zahnerZennium.setUpperStepsPerDecade(20)\n",
    "    zahnerZennium.setScanDirection(\"startToMax\")\n",
    "    zahnerZennium.setScanStrategy(\"single\")\n",
    "    \n",
    "    zahnerZennium.enablePotentiostat()\n",
    "    \n",
    "    \n",
    "    zahnerZennium.setFrequency(1)\n",
    "    zahnerZennium.setAmplitude(10e-3)\n",
    "    zahnerZennium.setNumberOfPeriods(3)\n",
    "    \n",
    "    print(\"measurement start\")\n",
    "    \n",
    "    zahnerZennium.measureEIS()\n",
    "    for i in range(20):\n",
    "        zahnerZennium.getPotential()\n",
    "        zahnerZennium.setPotential(0)\n",
    "\n",
    "    print(\"measurement end\")\n",
    "        \n",
    "    zahnerZennium.disablePotentiostat()"
   ]
  },
  {
   "cell_type": "markdown",
   "metadata": {},
   "source": [
    "Closing the threads and then waiting until they are closed."
   ]
  },
  {
   "cell_type": "code",
   "execution_count": 17,
   "metadata": {},
   "outputs": [
    {
     "name": "stdout",
     "output_type": "stream",
     "text": [
      "Heartbeat: 0 ms\n",
      "set thread kill flag\n",
      "disconnect connections\n",
      "term error live thread\n",
      "live thread left\n",
      "term error watch thread\n",
      "watch thread left\n",
      "join the threads\n",
      "finish\n"
     ]
    }
   ],
   "source": [
    "    print(\"set thread kill flag\")\n",
    "    keepThreadRunning = False\n",
    "    \n",
    "    print(\"disconnect connections\")\n",
    "    zenniumConnection.disconnectFromTerm()\n",
    "    zenniumConnectionLiveData.disconnectFromTerm()\n",
    "    \n",
    "    print(\"join the threads\")\n",
    "    liveThread.join()\n",
    "    watchThread.join()\n",
    "    \n",
    "    print(\"finish\")"
   ]
  }
 ],
 "metadata": {
  "interpreter": {
   "hash": "ac59ebe37160ed0dfa835113d9b8498d9f09ceb179beaac4002f036b9467c963"
  },
  "kernelspec": {
   "display_name": "Python 3.9.7 64-bit",
   "name": "python3"
  },
  "language_info": {
   "codemirror_mode": {
    "name": "ipython",
    "version": 3
   },
   "file_extension": ".py",
   "mimetype": "text/x-python",
   "name": "python",
   "nbconvert_exporter": "python",
   "pygments_lexer": "ipython3",
   "version": "3.9.7"
  },
  "orig_nbformat": 4
 },
 "nbformat": 4,
 "nbformat_minor": 2
}
