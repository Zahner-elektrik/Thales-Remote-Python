{
   "cells": [
      {
         "cell_type": "markdown",
         "metadata": {},
         "source": [
            "# Workstation Heartbeat and Live Data\n",
            "\n",
            "This example shows how in a separate thread from the term the HeartBeat can be queried with Python. The heartbeat is queried in a separate thread once a second. The HeartBeat represents how many milliseconds it has been since the term has received something from the Thales.\n",
            "\n",
            "This example also receives the live data. To receive the online display data, the Zahner online display must be switched off.\n",
            "To do this, the following parameter must be adapted in the file C:/FLINK/usb.ini EnableODisplay=off."
         ]
      },
      {
         "cell_type": "code",
         "execution_count": 1,
         "metadata": {},
         "outputs": [],
         "source": [
            "import sys\n",
            "from thales_remote.connection import ThalesRemoteConnection\n",
            "from thales_remote.script_wrapper import PotentiostatMode,ThalesRemoteScriptWrapper\n",
            "import time\n",
            "import threading"
         ]
      },
      {
         "cell_type": "markdown",
         "metadata": {},
         "source": [
            "It is not a clean solution that the connections are global variables.\n",
            "This was solved for a simpler example with global variables."
         ]
      },
      {
         "cell_type": "code",
         "execution_count": 2,
         "metadata": {},
         "outputs": [],
         "source": [
            "zenniumConnection = None\n",
            "zahnerZennium = None\n",
            "zenniumConnectionLiveData = None\n",
            "\n",
            "keepThreadRunning = True"
         ]
      },
      {
         "cell_type": "markdown",
         "metadata": {},
         "source": [
            "# Watch Thread\n",
            "The following function is used as a thread, in which the HearBeat is queried once a second. The HeartBeat time varies, for example, if EIS is measured at low frequencies, then this time is increased.\n",
            "\n",
            "The HeartBeat is queried once per second. A timeout of 2 seconds is used to query the HeartBeat. This ensures that the Term responds within 2 seconds, otherwise it can be assumed that the Term software has crashed."
         ]
      },
      {
         "cell_type": "code",
         "execution_count": 3,
         "metadata": {},
         "outputs": [],
         "source": [
            "def watchThreadFunction():\n",
            "    global keepThreadRunning\n",
            "    global zenniumConnection\n",
            "    global zahnerZennium\n",
            "    \n",
            "    print(\"watch thread started\")\n",
            "    while keepThreadRunning:\n",
            "        time.sleep(1)\n",
            "        try:\n",
            "            beat = zahnerZennium.getWorkstationHeartBeat(2)\n",
            "        except:\n",
            "            print(\"term error watch thread\")\n",
            "            keepThreadRunning = False\n",
            "        else:\n",
            "            print(\"Heartbeat: \" + str(beat) + \" ms\")\n",
            "    \n",
            "    print(\"watch thread left\")\n",
            "    return"
         ]
      },
      {
         "cell_type": "markdown",
         "metadata": {},
         "source": [
            "# Live Data Thread\n",
            "The following function is used as a thread which receives the live data instead of the online display.\n",
            "\n",
            "Only relevant packet types are output to the console. The relevant types are written as comments in the source code."
         ]
      },
      {
         "cell_type": "code",
         "execution_count": 4,
         "metadata": {},
         "outputs": [],
         "source": [
            "def liveDataThreadFunction():\n",
            "    global keepThreadRunning\n",
            "    global zenniumConnectionLiveData\n",
            "    \n",
            "    print(\"live thread started\")\n",
            "    while keepThreadRunning:\n",
            "        try:\n",
            "            data = zenniumConnectionLiveData.waitForBinaryTelegram()\n",
            "            packetId = data[0]\n",
            "            data = data[1:]\n",
            "            '''\n",
            "            Type:\n",
            "            1 = Init measurement begin\n",
            "            2 = Measurement end\n",
            "            4 = Measurement data names\n",
            "            5 = Measurement data units\n",
            "            6 = ASCII data\n",
            "            '''\n",
            "            if packetId in [1,2,4,5,6]:\n",
            "                print(data.decode(\"ASCII\"))\n",
            "        except:\n",
            "            '''\n",
            "            The connection to the term has an error or the socket has been closed.\n",
            "            '''\n",
            "            print(\"term error live thread\")\n",
            "            keepThreadRunning = False\n",
            "    \n",
            "    print(\"live thread left\")\n",
            "    return"
         ]
      },
      {
         "cell_type": "markdown",
         "metadata": {},
         "source": [
            "# Main Program Sequence\n",
            "\n",
            "In the main program flow, the first thing that happens is that an additional connection to the term is established with the name \"Logging\". The live data comes via this connection.\n",
            "\n",
            "Then the thread is started, which receives the data."
         ]
      },
      {
         "cell_type": "code",
         "execution_count": 5,
         "metadata": {},
         "outputs": [
            {
               "name": "stdout",
               "output_type": "stream",
               "text": [
                  "live thread started\n"
               ]
            }
         ],
         "source": [
            "if __name__ == \"__main__\":\n",
            "    zenniumConnectionLiveData = ThalesRemoteConnection()\n",
            "    zenniumConnectionLiveData.connectToTerm(\"localhost\", \"Logging\")\n",
            "        \n",
            "    \n",
            "    liveThread = threading.Thread(target=liveDataThreadFunction)\n",
            "    liveThread.start()"
         ]
      },
      {
         "attachments": {},
         "cell_type": "markdown",
         "metadata": {},
         "source": [
            "After the connection with the live data, the nominal connection is established, which sends the commands for measurement.\n",
            "\n",
            "In addition, the hideWindow() method hides the Thales window to protect it from unwanted operation via GUI when controlled remotely."
         ]
      },
      {
         "cell_type": "code",
         "execution_count": 6,
         "metadata": {},
         "outputs": [
            {
               "data": {
                  "text/plain": [
                     "'OK\\r'"
                  ]
               },
               "execution_count": 6,
               "metadata": {},
               "output_type": "execute_result"
            }
         ],
         "source": [
            "    zenniumConnection = ThalesRemoteConnection()\n",
            "    zenniumConnection.connectToTerm(\"localhost\", \"ScriptRemote\")\n",
            "        \n",
            "    zahnerZennium = ThalesRemoteScriptWrapper(zenniumConnection)\n",
            "    zahnerZennium.forceThalesIntoRemoteScript()\n",
            "    zahnerZennium.hideWindow()\n",
            "    \n",
            "    zahnerZennium.calibrateOffsets()"
         ]
      },
      {
         "cell_type": "markdown",
         "metadata": {},
         "source": [
            "The watch thread uses the command interface to the Thales, so it is started after initializing this connection."
         ]
      },
      {
         "cell_type": "code",
         "execution_count": 7,
         "metadata": {},
         "outputs": [
            {
               "name": "stdout",
               "output_type": "stream",
               "text": [
                  "watch thread started\n",
                  "measurement start\n",
                  "Heartbeat: 281.0 ms\n",
                  "3,Impedance Spectroscopy\n",
                  "frequency,impedance,phase,time,significance,voltage,current,\n",
                  "Hz,Ohm,rad,s, ,V,A,\n",
                  "Heartbeat: 172.0 ms\n",
                  "Heartbeat: 687.0 ms\n",
                  "Heartbeat: 15.0 ms\n",
                  "Heartbeat: 469.0 ms\n",
                  " 1.00940e+03, 1.00542e-02, 3.08309e-04, 0.00000e+00, 1.00000e+00, 5.74984e-06, 1.42959e-03,\n",
                  " 1.11450e+03, 1.00589e-02, 4.00650e-04, 1.85350e+00, 1.00000e+00, 5.74984e-06, 1.42959e-03,\n",
                  "Heartbeat: 63.0 ms\n",
                  " 1.23050e+03, 1.00501e-02, 8.81199e-05, 2.21900e+00, 1.00000e+00, 5.74984e-06, 1.42959e-03,\n",
                  " 1.35860e+03, 1.00547e-02, 5.45079e-04, 2.65000e+00, 1.00000e+00, 5.74984e-06, 1.42959e-03,\n",
                  "Heartbeat: 266.0 ms\n",
                  " 1.50000e+03, 1.00534e-02, 2.23606e-06, 3.01250e+00, 1.00000e+00, 5.74984e-06, 1.42959e-03,\n",
                  " 1.35860e+03, 1.00557e-02, 3.30657e-04, 3.37450e+00, 1.00000e+00, 5.74984e-06, 1.42959e-03,\n",
                  " 1.23050e+03, 1.00567e-02, 4.46807e-04, 3.73800e+00, 1.00000e+00, 5.74984e-06, 1.42959e-03,\n",
                  "Heartbeat: 172.0 ms\n",
                  " 1.11450e+03, 1.00546e-02, 7.31679e-05, 4.10400e+00, 1.00000e+00, 5.74984e-06, 1.42959e-03,\n",
                  " 1.00940e+03, 1.00519e-02,-5.06616e-04, 4.47200e+00, 1.00000e+00, 5.74984e-06, 1.42959e-03,\n",
                  " 9.14260e+02, 1.00515e-02,-2.25665e-04, 4.83550e+00, 1.00000e+00, 5.74984e-06, 1.42959e-03,\n",
                  "Heartbeat: 78.0 ms\n",
                  " 8.28070e+02, 1.00536e-02, 2.01086e-04, 5.19500e+00, 1.00000e+00, 5.74984e-06, 1.42959e-03,\n",
                  " 7.50000e+02, 1.00551e-02,-1.03662e-04, 5.55500e+00, 1.00000e+00, 5.74984e-06, 1.42959e-03,\n",
                  "Impedance Spectroscopy finished!\n",
                  "Heartbeat: 16.0 ms\n",
                  "Heartbeat: 172.0 ms\n",
                  "Heartbeat: 156.0 ms\n",
                  "Heartbeat: 63.0 ms\n",
                  "Heartbeat: 63.0 ms\n",
                  "Heartbeat: 47.0 ms\n",
                  "Heartbeat: 47.0 ms\n",
                  "measurement end\n"
               ]
            },
            {
               "data": {
                  "text/plain": [
                     "'OK\\r'"
                  ]
               },
               "execution_count": 7,
               "metadata": {},
               "output_type": "execute_result"
            }
         ],
         "source": [
            "    watchThread = threading.Thread(target=watchThreadFunction)\n",
            "    watchThread.start()\n",
            "    \n",
            "    zahnerZennium.setPotentiostatMode(PotentiostatMode.POTMODE_POTENTIOSTATIC)\n",
            "    zahnerZennium.setAmplitude(10e-3)\n",
            "    zahnerZennium.setPotential(0)\n",
            "    zahnerZennium.setLowerFrequencyLimit(750)\n",
            "    zahnerZennium.setStartFrequency(1000)\n",
            "    zahnerZennium.setUpperFrequencyLimit(1500)\n",
            "    zahnerZennium.setLowerNumberOfPeriods(2)\n",
            "    zahnerZennium.setLowerStepsPerDecade(2)\n",
            "    zahnerZennium.setUpperNumberOfPeriods(2)\n",
            "    zahnerZennium.setUpperStepsPerDecade(20)\n",
            "    zahnerZennium.setScanDirection(\"startToMax\")\n",
            "    zahnerZennium.setScanStrategy(\"single\")\n",
            "    \n",
            "    zahnerZennium.enablePotentiostat()\n",
            "    \n",
            "    \n",
            "    zahnerZennium.setFrequency(1)\n",
            "    zahnerZennium.setAmplitude(10e-3)\n",
            "    zahnerZennium.setNumberOfPeriods(3)\n",
            "    \n",
            "    print(\"measurement start\")\n",
            "    \n",
            "    zahnerZennium.measureEIS()\n",
            "    for i in range(20):\n",
            "        zahnerZennium.getPotential()\n",
            "        zahnerZennium.setPotential(0)\n",
            "\n",
            "    print(\"measurement end\")\n",
            "        \n",
            "    zahnerZennium.disablePotentiostat()"
         ]
      },
      {
         "attachments": {},
         "cell_type": "markdown",
         "metadata": {},
         "source": [
            "Closing the threads and then waiting until they are closed.\n",
            "\n",
            "Before the connection is disconnected, the Thales window is displayed again."
         ]
      },
      {
         "cell_type": "code",
         "execution_count": 8,
         "metadata": {},
         "outputs": [
            {
               "name": "stdout",
               "output_type": "stream",
               "text": [
                  "set thread kill flag\n",
                  "disconnect connections\n",
                  "term error watch thread\n",
                  "watch thread left\n",
                  "term error live thread\n",
                  "live thread left\n",
                  "join the threads\n",
                  "finish\n"
               ]
            }
         ],
         "source": [
            "    print(\"set thread kill flag\")\n",
            "    keepThreadRunning = False\n",
            "    \n",
            "    print(\"disconnect connections\")\n",
            "    zahnerZennium.showWindow()\n",
            "    zenniumConnection.disconnectFromTerm()\n",
            "    zenniumConnectionLiveData.disconnectFromTerm()\n",
            "    \n",
            "    print(\"join the threads\")\n",
            "    liveThread.join()\n",
            "    watchThread.join()\n",
            "    \n",
            "    print(\"finish\")"
         ]
      }
   ],
   "metadata": {
      "kernelspec": {
         "display_name": "Python 3",
         "language": "python",
         "name": "python3"
      },
      "language_info": {
         "codemirror_mode": {
            "name": "ipython",
            "version": 3
         },
         "file_extension": ".py",
         "mimetype": "text/x-python",
         "name": "python",
         "nbconvert_exporter": "python",
         "pygments_lexer": "ipython3",
         "version": "3.11.2"
      },
      "orig_nbformat": 4,
      "vscode": {
         "interpreter": {
            "hash": "5238573367df39f7286bb46f9ff5f08f63a01a80960060ce41e3c79b190280fa"
         }
      }
   },
   "nbformat": 4,
   "nbformat_minor": 2
}
