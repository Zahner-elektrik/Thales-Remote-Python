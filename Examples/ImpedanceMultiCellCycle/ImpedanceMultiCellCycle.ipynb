{
 "cells": [
  {
   "attachments": {},
   "cell_type": "markdown",
   "id": "9fd5451a-e27b-47f5-bc5f-f38407b0df0e",
   "metadata": {},
   "source": [
    "# Multichannel operation with EIS\n",
    "\n",
    "This notebook is an example in which [external potentiostats](https://zahner.de/products#external-potentiostats) such as PP2x2, XPOT2 or EL1002 are controlled both standalone (SCPI) and as an EPC device on a [Zennium series instrument](https://zahner.de/products#potentiostats). Up to 16 external potentiostats can share one Zennium to use it for impedance measurements for example.\n",
    "\n",
    "**This notebook cannot be executed and has been created only for documentation and explanation of the source code, because Jupyter does not support loops over multiple cells.**\n",
    "\n",
    "Knowledge of all other notebooks of this repository, the [Remote2 manual](https://doc.zahner.de/manuals/remote2.pdf) and the [zahner_potentiostat package](https://github.com/Zahner-elektrik/Zahner-Remote-Python) is assumed as known.\n",
    "\n",
    "For this example a Zennium with [EPC card](https://zahner.de/products-details/addon-cards/epc42) is necessary, to this EPC card the external potentiostats must be connected with the appropriate cable. A maximum of 4 potentiostats per card and a maximum of 4 cards are possible.  \n",
    "The external potentiostats and the Zennium must also be connected to the computer via USB cable separately.\n",
    "\n",
    "In this example, a PP242 and an XPOT2 are used to cyclically charge and discharge capacitors, and after a defined number of cycles, impedance is measured with the Zennium via the EPC interface.\n",
    "\n",
    "The [ImpedanceRampHotSwap.ipynb](https://github.com/Zahner-elektrik/Thales-Remote-Python/tree/main/Examples/ImpedanceRampHotSwap/ImpedanceRampHotSwap.ipynb) example is a supplement to this example, there the potentiostat is not switched off when switching between EPC and SCPI.\n",
    "\n",
    "**Important Notes:**\n",
    "\n",
    "Each external potentiostat needs its own thread or process for the measurement. This requires a basic understanding of multithreading and thread synchronization. This example is solved with threads. Because of the [threading](https://docs.python.org/3/library/threading.html#module-threading) concept with the [Python Global Interpreter Lock (GIL)](https://docs.python.org/3/glossary.html#term-global-interpreter-lock) it can make sense or be necessary to use [multiprocessing](https://docs.python.org/3/library/multiprocessing.html) instead of [threading](https://docs.python.org/3/library/threading.html#module-threading). If multiprocessing is used, then the used lock with which the shared Zennium is synchronized has to be changed to the [multiprocessing lock](https://docs.python.org/3/library/multiprocessing.html#multiprocessing.Lock) instead of the [threading lock](https://docs.python.org/3/library/threading.html#lock-objects).\n",
    "\n",
    "**Only one potentiostat, i.e. thread/process, can access the Zennium at a time.**"
   ]
  },
  {
   "cell_type": "code",
   "execution_count": null,
   "id": "267c073d-96d2-4b9f-8fdc-76f5013c6090",
   "metadata": {},
   "outputs": [],
   "source": [
    "from thales_remote.epc_scpi_handler import EpcScpiHandlerFactory,EpcScpiHandler\n",
    "from thales_remote.script_wrapper import PotentiostatMode\n",
    "from zahner_potentiostat.scpi_control.datahandler import DataManager\n",
    "from zahner_potentiostat.display.onlinedisplay import OnlineDisplay\n",
    "from zahner_potentiostat.scpi_control.datareceiver import TrackTypes\n",
    "\n",
    "import threading\n",
    "from datetime import datetime"
   ]
  },
  {
   "attachments": {},
   "cell_type": "markdown",
   "id": "71e4ec65-791e-4e6d-9773-484759ecb257",
   "metadata": {},
   "source": [
    "# Name creation function\n",
    "\n",
    "This function simplifies the naming of the cells/channels."
   ]
  },
  {
   "cell_type": "code",
   "execution_count": null,
   "id": "a46c10df-c39b-4095-9e70-0011f524dd96",
   "metadata": {},
   "outputs": [],
   "source": [
    "def getFileName(channel,cycle):\n",
    "    time = str(datetime.now().time())\n",
    "    time = time.replace(\":\",\"\")\n",
    "    time = time.replace(\",\",\"\")\n",
    "    time = time.replace(\".\",\"\")\n",
    "    return f\"channel{channel}_cycle{cycle}\" # + time"
   ]
  },
  {
   "attachments": {},
   "cell_type": "markdown",
   "id": "99d01698-083e-4174-8ce0-829ff601acff",
   "metadata": {},
   "source": [
    "# Thread for channel 1\n",
    "\n",
    "The following function is executed as a thread for channel one.\n",
    "The same function could also be executed as a thread for each channel, but here different sequences are to be measured with each external potentiostat, therefore two different functions are used.\n",
    "\n",
    "Only the first thread is explained in more detail, the second thread is only slightly different from the first thread.\n",
    "\n",
    "The threads unfortunately have to be defined before the main function, where the initialization of the different devices takes place and [EpcScpiHandler](https://doc.zahner.de/thales_remote/epc_scpi_handler.html#thales_remote.epc_scpi_handler.EpcScpiHandler) objects are created for each external potentiostat.\n",
    "\n",
    "An [EpcScpiHandler](https://doc.zahner.de/thales_remote/epc_scpi_handler.html#thales_remote.epc_scpi_handler.EpcScpiHandler) object is then passed to the respective thread as a parameter, so that the thread can work with this object and the measurement process can be programmed."
   ]
  },
  {
   "cell_type": "code",
   "execution_count": null,
   "id": "e7fce540-9544-4eb1-9cfc-9180c0cf04d7",
   "metadata": {},
   "outputs": [],
   "source": [
    "def channel1Thread(deviceHandler, channel = 0):\n",
    "    deviceHandler.scpiInterface.setMaximumTimeParameter(15)\n",
    "    deviceHandler.scpiInterface.setParameterLimitCheckToleranceTime(0.1)\n",
    "    \n",
    "    configuration = {\n",
    "        \"figureTitle\":\"Online Display Channel 1\",\n",
    "        \"xAxisLabel\":\"Time\",\n",
    "        \"xAxisUnit\":\"s\",\n",
    "        \"xTrackName\":TrackTypes.TIME.toString(),\n",
    "        \"yAxis\":\n",
    "            [{\"label\": \"Voltage\", \"unit\": \"V\", \"trackName\":TrackTypes.VOLTAGE.toString()},\n",
    "             {\"label\": \"Current\", \"unit\": \"A\", \"trackName\":TrackTypes.CURRENT.toString()}]\n",
    "    }\n",
    "    \n",
    "    for i in range(3):\n",
    "        filename = getFileName(channel = channel, cycle = i)   "
   ]
  },
  {
   "attachments": {},
   "cell_type": "markdown",
   "id": "8dd9502c-2dad-4bcd-8199-6a786bc50613",
   "metadata": {},
   "source": [
    "First the device is in SCPI standalone mode and a capacitor is charged and discharged 2 times.\n",
    "\n",
    "During the measurement, the online display is also started for visualization of voltage and current."
   ]
  },
  {
   "cell_type": "code",
   "execution_count": null,
   "id": "d56cfb9e-1f56-491f-9aec-2c1d60d83dd5",
   "metadata": {},
   "outputs": [],
   "source": [
    "        onlineDisplay = OnlineDisplay(deviceHandler.scpiInterface.getDataReceiver(), displayConfiguration=configuration)\n",
    "        \n",
    "        deviceHandler.scpiInterface.measureOCVScan()\n",
    "        \n",
    "        for n in range(2):\n",
    "            deviceHandler.scpiInterface.measureCharge(current = 1e-3,\n",
    "                                                      stopVoltage = 2,\n",
    "                                                      maximumTime = \"5 min\")\n",
    "            \n",
    "            deviceHandler.scpiInterface.measureDischarge(current = -1e-3,\n",
    "                                                         stopVoltage = 0.5,\n",
    "                                                         maximumTime = \"5 min\")"
   ]
  },
  {
   "attachments": {},
   "cell_type": "markdown",
   "id": "ed5eb36a-0cec-4bb9-97c5-03293d9230be",
   "metadata": {},
   "source": [
    "After cycling, the EPC mode must be activated in order to control the potentiostat as an EPC device with the Zennium. For this purpose the lock must be aquired.  \n",
    "In order to be able to continue measuring the OCP, the lock is acquired with *blocking = False*, so if the Zennium is occupied and [acquireSharedZennium()](https://doc.zahner.de/thales_remote/epc_scpi_handler.html#thales_remote.epc_scpi_handler.EpcScpiHandler.acquireSharedZennium) returns *False*, the OCP is measured again for 15 seconds.  \n",
    "This is repeated until the zennium is no longer used by another channel and is available."
   ]
  },
  {
   "cell_type": "code",
   "execution_count": null,
   "id": "1699a6cb-6bcf-484d-8927-3199157c791f",
   "metadata": {},
   "outputs": [],
   "source": [
    "        deviceHandler.scpiInterface.setMaximumTimeParameter(15)    \n",
    "        while deviceHandler.acquireSharedZennium(blocking = False) == False:\n",
    "            deviceHandler.scpiInterface.measureOCVScan()"
   ]
  },
  {
   "cell_type": "markdown",
   "id": "c355fae7-9a24-494a-ae85-2646f3dc603b",
   "metadata": {},
   "source": [
    "Now that the Zennium is reserved for this measurement, the measurement data is saved as text and the online display is closed."
   ]
  },
  {
   "cell_type": "code",
   "execution_count": null,
   "id": "0e88e691-bb68-452b-a7a9-bc016afed25d",
   "metadata": {},
   "outputs": [],
   "source": [
    "        dataManager = DataManager(deviceHandler.scpiInterface.getDataReceiver())\n",
    "        dataManager.saveDataAsText(filename + \".txt\")\n",
    "        \n",
    "        onlineDisplay.close()\n",
    "        del onlineDisplay"
   ]
  },
  {
   "cell_type": "markdown",
   "id": "d46d3b76-fd12-4f05-9ef6-3b67e20ee5f5",
   "metadata": {},
   "source": [
    "To use the external potentiostat as an EPC device, the device must be switched to EPC mode as shown below.\n",
    "\n",
    "The change between SCPI and EPC interface must be initiated by the currently active controller, it is not possible to \"get back\" the control via SCPI in EPC mode."
   ]
  },
  {
   "cell_type": "code",
   "execution_count": null,
   "id": "b0aed53b-cbd3-4fc7-ac17-17b609a96445",
   "metadata": {},
   "outputs": [],
   "source": [
    "        deviceHandler.switchToEPC()"
   ]
  },
  {
   "attachments": {},
   "cell_type": "markdown",
   "id": "cd286f44-c439-4f99-9b19-8bd2ff0f8009",
   "metadata": {},
   "source": [
    "From now on the Zennium is controlled by Remote2 and the [Thales-Remote-Python library](https://github.com/Zahner-elektrik/Thales-Remote-Python), the [switchToEPC()](https://doc.zahner.de/thales_remote/epc_scpi_handler.html#thales_remote.epc_scpi_handler.EpcScpiHandler.switchToEPC) function automatically selects the EPC channel to which the device is connected.\n",
    "\n",
    "The object *deviceHandler.scpiInterface* loses its validity after calling the function [switchToEPC()](https://doc.zahner.de/thales_remote/epc_scpi_handler.html#thales_remote.epc_scpi_handler.EpcScpiHandler.switchToEPC) and **can not be used anymore**.\n",
    "\n",
    "In the [other example](https://github.com/Zahner-elektrik/Thales-Remote-Python/tree/main/Examples/ImpedanceRampHotSwap/ImpedanceRampHotSwap.ipynb) the parameter *keepPotentiostatState = True* is used to keep the potentiostat switched on when switching the operation mode."
   ]
  },
  {
   "cell_type": "code",
   "execution_count": null,
   "id": "b695e763-d86b-456c-abd0-6a6852b8f5a1",
   "metadata": {},
   "outputs": [],
   "source": [
    "        deviceHandler.sharedZenniumInterface.setEISNaming(\"individual\")\n",
    "        deviceHandler.sharedZenniumInterface.setEISOutputPath(r\"C:\\THALES\\temp\\multichannel\")\n",
    "        deviceHandler.sharedZenniumInterface.setEISOutputFileName(filename)\n",
    "        \n",
    "        deviceHandler.sharedZenniumInterface.setPotentiostatMode(PotentiostatMode.POTMODE_POTENTIOSTATIC)\n",
    "        deviceHandler.sharedZenniumInterface.setAmplitude(10e-3)\n",
    "        deviceHandler.sharedZenniumInterface.setPotential(0)\n",
    "        deviceHandler.sharedZenniumInterface.setLowerFrequencyLimit(100)\n",
    "        deviceHandler.sharedZenniumInterface.setStartFrequency(500)\n",
    "        deviceHandler.sharedZenniumInterface.setUpperFrequencyLimit(1000)\n",
    "        deviceHandler.sharedZenniumInterface.setLowerNumberOfPeriods(5)\n",
    "        deviceHandler.sharedZenniumInterface.setLowerStepsPerDecade(2)\n",
    "        deviceHandler.sharedZenniumInterface.setUpperNumberOfPeriods(20)\n",
    "        deviceHandler.sharedZenniumInterface.setUpperStepsPerDecade(5)\n",
    "        deviceHandler.sharedZenniumInterface.setScanDirection(\"startToMax\")\n",
    "        deviceHandler.sharedZenniumInterface.setScanStrategy(\"single\")\n",
    "        \n",
    "        deviceHandler.sharedZenniumInterface.measureEIS()"
   ]
  },
  {
   "attachments": {},
   "cell_type": "markdown",
   "id": "13fc14e4-e46e-4ec8-b8b3-a28dfc43b222",
   "metadata": {},
   "source": [
    "After the measurement, the Zennium must be released that it can be used by other channels. This is realized with the method [switchToSCPIAndReleaseSharedZennium()](https://doc.zahner.de/thales_remote/epc_scpi_handler.html#thales_remote.epc_scpi_handler.EpcScpiHandler.switchToSCPIAndReleaseSharedZennium). Afterwards the device is available for standalone SCPI measurements without Thales.\n",
    "\n",
    "The object *deviceHandler.sharedZenniumInterface* loses its validity after calling the function [switchToSCPIAndReleaseSharedZennium()](https://doc.zahner.de/thales_remote/epc_scpi_handler.html#thales_remote.epc_scpi_handler.EpcScpiHandler.switchToSCPIAndReleaseSharedZennium) and **can not be used anymore**.\n",
    "\n",
    "In the [other example]((https://github.com/Zahner-elektrik/Thales-Remote-Python/tree/main/Examples/ImpedanceRampHotSwap/ImpedanceRampHotSwap.ipynb)) the parameter *keepPotentiostatState = True* is used to keep the potentiostat switched on when switching the operation mode."
   ]
  },
  {
   "cell_type": "code",
   "execution_count": null,
   "id": "d47c19bf-e5b4-435c-a837-d20502a606dc",
   "metadata": {},
   "outputs": [],
   "source": [
    "        deviceHandler.switchToSCPIAndReleaseSharedZennium()\n",
    "    \n",
    "    return"
   ]
  },
  {
   "cell_type": "markdown",
   "id": "de430254-71e2-49ec-89f2-f75617c27c85",
   "metadata": {},
   "source": [
    "# Thread for channel 2\n",
    "\n",
    "The following function is executed as a thread for channel 2."
   ]
  },
  {
   "cell_type": "code",
   "execution_count": null,
   "id": "577177a3-600c-4891-b66a-b58e2dfcc6bc",
   "metadata": {},
   "outputs": [],
   "source": [
    "def channel2Thread(deviceHandler):\n",
    "    deviceHandler.scpiInterface.setMaximumTimeParameter(15)\n",
    "    deviceHandler.scpiInterface.setParameterLimitCheckToleranceTime(0.1)\n",
    "    \n",
    "    configuration = {\n",
    "        \"figureTitle\":\"Online Display Channel 2\",\n",
    "        \"xAxisLabel\":\"Time\",\n",
    "        \"xAxisUnit\":\"s\",\n",
    "        \"xTrackName\":TrackTypes.TIME.toString(),\n",
    "        \"yAxis\":\n",
    "            [{\"label\": \"Voltage\", \"unit\": \"V\", \"trackName\":TrackTypes.VOLTAGE.toString()},\n",
    "             {\"label\": \"Current\", \"unit\": \"A\", \"trackName\":TrackTypes.CURRENT.toString()}]\n",
    "    }\n",
    "    \n",
    "    for i in range(2):\n",
    "        filename = getFileName(channel = 2, cycle = i)\n",
    "               \n",
    "        onlineDisplay = OnlineDisplay(deviceHandler.scpiInterface.getDataReceiver(), displayConfiguration=configuration)\n",
    "        \n",
    "        deviceHandler.scpiInterface.measureOCVScan()\n",
    "        \n",
    "        for n in range(2):\n",
    "            deviceHandler.scpiInterface.measureCharge(current = 4,\n",
    "                                                      stopVoltage = 1,\n",
    "                                                      maximumTime = \"5 min\")\n",
    "            \n",
    "            deviceHandler.scpiInterface.measureDischarge(current = -4,\n",
    "                                                         stopVoltage = 0.6,\n",
    "                                                         maximumTime = \"5 min\")\n",
    "        \n",
    "        dataManager = DataManager(deviceHandler.scpiInterface.getDataReceiver())\n",
    "        dataManager.saveDataAsText(filename + \".txt\")\n",
    "        \n",
    "        onlineDisplay.close()\n",
    "        del onlineDisplay"
   ]
  },
  {
   "attachments": {},
   "cell_type": "markdown",
   "id": "72bf967f-4520-48bd-a046-e055bd0386d4",
   "metadata": {},
   "source": [
    "In this example we simply wait without measurements until the Zennium is available, therefore no parameters are necessary for [acquireSharedZennium()](https://doc.zahner.de/thales_remote/epc_scpi_handler.html?highlight=acquiresharedzennium#thales_remote.epc_scpi_handler.EpcScpiHandler.acquireSharedZennium).  \n",
    "The potentiostat should have been switched off before."
   ]
  },
  {
   "cell_type": "code",
   "execution_count": null,
   "id": "744c4120-6882-4f7a-868d-0dcd4a32206e",
   "metadata": {},
   "outputs": [],
   "source": [
    "        deviceHandler.acquireSharedZennium()              \n",
    "        deviceHandler.switchToEPC()\n",
    "\n",
    "        deviceHandler.sharedZenniumInterface.setEISNaming(\"individual\")\n",
    "        deviceHandler.sharedZenniumInterface.setEISOutputPath(r\"C:\\THALES\\temp\\multichannel\")\n",
    "        deviceHandler.sharedZenniumInterface.setEISOutputFileName(filename)\n",
    "        \n",
    "        deviceHandler.sharedZenniumInterface.setPotentiostatMode(PotentiostatMode.POTMODE_POTENTIOSTATIC)\n",
    "        deviceHandler.sharedZenniumInterface.setAmplitude(10e-3)\n",
    "        deviceHandler.sharedZenniumInterface.setPotential(0)\n",
    "        deviceHandler.sharedZenniumInterface.setLowerFrequencyLimit(100)\n",
    "        deviceHandler.sharedZenniumInterface.setStartFrequency(500)\n",
    "        deviceHandler.sharedZenniumInterface.setUpperFrequencyLimit(1000)\n",
    "        deviceHandler.sharedZenniumInterface.setLowerNumberOfPeriods(5)\n",
    "        deviceHandler.sharedZenniumInterface.setLowerStepsPerDecade(2)\n",
    "        deviceHandler.sharedZenniumInterface.setUpperNumberOfPeriods(20)\n",
    "        deviceHandler.sharedZenniumInterface.setUpperStepsPerDecade(5)\n",
    "        deviceHandler.sharedZenniumInterface.setScanDirection(\"startToMax\")\n",
    "        deviceHandler.sharedZenniumInterface.setScanStrategy(\"single\")\n",
    "        \n",
    "        deviceHandler.sharedZenniumInterface.measureEIS()\n",
    "        \n",
    "        deviceHandler.switchToSCPIAndReleaseSharedZennium()\n",
    "    \n",
    "    return"
   ]
  },
  {
   "attachments": {},
   "cell_type": "markdown",
   "id": "71163bbf-b562-4320-8d28-386e47416654",
   "metadata": {},
   "source": [
    "# Initialization of the devices\n",
    "\n",
    "Before the two threads with the measurement tasks are executed, the device management objects of type [EpcScpiHandler](https://doc.zahner.de/thales_remote/epc_scpi_handler.html#thales_remote.epc_scpi_handler.EpcScpiHandler) are created with the [EpcScpiHandlerFactory](https://doc.zahner.de/thales_remote/epc_scpi_handler.html#thales_remote.epc_scpi_handler.EpcScpiHandlerFactory) class.\n",
    "\n",
    "The Zennium could also be connected to another computer via USB and you can control the Zennium over network, for this the default parameter *shared_zennium_target = \"localhost\"* of the constructor of [EpcScpiHandlerFactory](https://doc.zahner.de/thales_remote/epc_scpi_handler.html#thales_remote.epc_scpi_handler.EpcScpiHandlerFactory) must be overwritten with the corresponding IP address.\n",
    "The external potentiostats can currently only be controlled via USB."
   ]
  },
  {
   "cell_type": "code",
   "execution_count": null,
   "id": "b2a1e8fd-2ac4-450a-91c3-90caf0e4cdfe",
   "metadata": {},
   "outputs": [],
   "source": [
    "if __name__ == \"__main__\":    \n",
    "    handlerFactory = EpcScpiHandlerFactory()"
   ]
  },
  {
   "attachments": {},
   "cell_type": "markdown",
   "id": "75ad88c3-55a5-4711-87f5-eddf7f57dffa",
   "metadata": {},
   "source": [
    "With the method [createEpcScpiHandler()](https://doc.zahner.de/thales_remote/epc_scpi_handler.html#thales_remote.epc_scpi_handler.EpcScpiHandlerFactory.createEpcScpiHandler) of the [EpcScpiHandlerFactory](https://doc.zahner.de/thales_remote/epc_scpi_handler.html#thales_remote.epc_scpi_handler.EpcScpiHandlerFactory) object handlerFactory, a new [EpcScpiHandler](https://doc.zahner.de/thales_remote/epc_scpi_handler.html#thales_remote.epc_scpi_handler.EpcScpiHandler) object can be created, which is used to control the devices as explained above.\n",
    "\n",
    "The method [createEpcScpiHandler()](https://doc.zahner.de/thales_remote/epc_scpi_handler.html#thales_remote.epc_scpi_handler.EpcScpiHandlerFactory.createEpcScpiHandler) has two parameters:  \n",
    "* **epcChannel:** The number of the EPC channel to which the external potentiostat is connected.\n",
    "* **serialNumber:** The serial number of the device to uniquely identify it."
   ]
  },
  {
   "cell_type": "code",
   "execution_count": null,
   "id": "20a0d32c-7e21-4dac-87f9-0d79994fbdea",
   "metadata": {},
   "outputs": [],
   "source": [
    "    XPOT2 = handlerFactory.createEpcScpiHandler(epcChannel=1, serialNumber=27000)\n",
    "    PP242 = handlerFactory.createEpcScpiHandler(epcChannel=4, serialNumber=35000)"
   ]
  },
  {
   "attachments": {},
   "cell_type": "markdown",
   "id": "f3e3bd5c-4b82-4068-a099-4a78e0c2bfec",
   "metadata": {},
   "source": [
    "After the two devices are initialized, they are passed to the respective [threads](https://docs.python.org/3/library/threading.html#module-threading) and the threads are started. Then the main only waits until the two measurement threads are finished.\n",
    "\n",
    "For the first thread a channel number is passed, this would be necessary for the naming of the files, if the same function is executed as different threads."
   ]
  },
  {
   "cell_type": "code",
   "execution_count": null,
   "id": "9a65d20e-caf1-49a8-bea4-36545d54b4d7",
   "metadata": {},
   "outputs": [],
   "source": [
    "    channel1ThreadHandler = threading.Thread(target=channel1Thread, args=(XPOT2,1))\n",
    "    channel2ThreadHandler = threading.Thread(target=channel2Thread, args=(PP242,))\n",
    "    \n",
    "    channel1ThreadHandler.start()\n",
    "    channel2ThreadHandler.start()\n",
    "    \n",
    "    channel1ThreadHandler.join()\n",
    "    channel2ThreadHandler.join()\n",
    "    \n",
    "    handlerFactory.closeAll()\n",
    "    print(\"finish\")"
   ]
  }
 ],
 "metadata": {
  "kernelspec": {
   "display_name": "Python 3.11.1 64-bit",
   "language": "python",
   "name": "python3"
  },
  "language_info": {
   "codemirror_mode": {
    "name": "ipython",
    "version": 3
   },
   "file_extension": ".py",
   "mimetype": "text/x-python",
   "name": "python",
   "nbconvert_exporter": "python",
   "pygments_lexer": "ipython3",
   "version": "3.11.1 (tags/v3.11.1:a7a450f, Dec  6 2022, 19:58:39) [MSC v.1934 64 bit (AMD64)]"
  },
  "toc-autonumbering": false,
  "toc-showtags": false,
  "vscode": {
   "interpreter": {
    "hash": "5238573367df39f7286bb46f9ff5f08f63a01a80960060ce41e3c79b190280fa"
   }
  }
 },
 "nbformat": 4,
 "nbformat_minor": 5
}
