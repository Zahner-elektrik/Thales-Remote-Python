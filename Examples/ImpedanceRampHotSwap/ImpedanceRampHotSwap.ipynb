{
 "cells": [
  {
   "attachments": {},
   "cell_type": "markdown",
   "metadata": {},
   "source": [
    "# SCPI ramps and Thales EIS without turning off the potentiostat\n",
    "\n",
    "All other examples are needed as a precognition for this example. Especially the [Ramps.ipynb](https://github.com/Zahner-elektrik/Zahner-Remote-Python/blob/main/Examples/Ramps/Ramps.ipynb) and [ImpedanceMultiCellCycle.ipynb](https://github.com/Zahner-elektrik/Thales-Remote-Python/blob/main/Examples/ImpedanceMultiCellCycle/ImpedanceMultiCellCycle.ipynb) are important and must be understand before.\n",
    "\n",
    "In this example, different DC currents are set with ramps. The ramp is followed by a polarization phase, which is followed by an impedance spectrum at this current setting. The DC current settings can be parameterized variably.\n",
    "\n",
    "**This notebook cannot be executed and has been created only for documentation and explanation of the source code, because Jupyter does not support loops over multiple cells.**"
   ]
  },
  {
   "cell_type": "code",
   "execution_count": null,
   "metadata": {},
   "outputs": [],
   "source": [
    "from thales_remote.epc_scpi_handler import EpcScpiHandlerFactory,EpcScpiHandler\n",
    "from thales_remote.script_wrapper import PotentiostatMode\n",
    "from zahner_potentiostat.scpi_control.datahandler import DataManager\n",
    "from zahner_potentiostat.display.onlinedisplay import OnlineDisplay\n",
    "from zahner_potentiostat.scpi_control.datareceiver import TrackTypes"
   ]
  },
  {
   "attachments": {},
   "cell_type": "markdown",
   "metadata": {},
   "source": [
    "# Definition of utiltiy functions\n",
    "\n",
    "A class is defined, which contains the parameters for the measurement. This simplifies the process and makes it easier to change the parameters.\n",
    "\n",
    "Two functions are also programmed to show that the same parameters are measured before and after the operating mode change."
   ]
  },
  {
   "cell_type": "code",
   "execution_count": null,
   "metadata": {},
   "outputs": [],
   "source": [
    "class TargetCurrents:\n",
    "    def __init__(self, dc, amplitude, scanrate):\n",
    "        self.dc = dc\n",
    "        self.amplitude = amplitude\n",
    "        self.scanrate = scanrate\n",
    "        return\n",
    "\n",
    "def measure_UI_EPC(deviceHandler):\n",
    "    for _ in range(3):\n",
    "        print(f\"EPC-Potential:\\t{deviceHandler.sharedZenniumInterface.getPotential():>10.6f} V\")\n",
    "        print(f\"EPC-Current:\\t{deviceHandler.sharedZenniumInterface.getCurrent():>10.3e} A\")\n",
    "    return\n",
    "\n",
    "def measure_UI_SCPI(deviceHandler):\n",
    "    for _ in range(3):\n",
    "        print(f\"SCPI-Potential:\\t{deviceHandler.scpiInterface.getPotential():>10.6f} V\")\n",
    "        print(f\"SCPI-Current:\\t{deviceHandler.scpiInterface.getCurrent():>10.3e} A\")\n",
    "    return"
   ]
  },
  {
   "attachments": {},
   "cell_type": "markdown",
   "metadata": {},
   "source": [
    "# Initialization\n",
    "\n",
    "In the example [ImpedanceMultiCellCycle.ipynb](https://github.com/Zahner-elektrik/Thales-Remote-Python/blob/main/Examples/ImpedanceMultiCellCycle/ImpedanceMultiCellCycle.ipynb) the initialization is explained step by step.\n",
    "\n",
    "For switching between EPC and SCPI operation, it is important that both instruments have warmed up for 30 minutes and that the calibration routine has been performed in both operating modes. This ensures that the DC differences are minimized."
   ]
  },
  {
   "cell_type": "code",
   "execution_count": null,
   "metadata": {},
   "outputs": [],
   "source": [
    "if __name__ == \"__main__\": \n",
    "    startCurrent = 0.0\n",
    "    handlerFactory = EpcScpiHandlerFactory(\"192.168.2.94\")\n",
    "    deviceHandler = handlerFactory.createEpcScpiHandler(epcChannel=1, serialNumber=33021)"
   ]
  },
  {
   "attachments": {},
   "cell_type": "markdown",
   "metadata": {},
   "source": [
    "After all devices have been warmed up for 30 minutes, the first step is to calibrate for SCPI mode after initialization.\n",
    "\n",
    "Calibration is also performed for the EPC mode."
   ]
  },
  {
   "cell_type": "code",
   "execution_count": null,
   "metadata": {},
   "outputs": [],
   "source": [
    "    deviceHandler.scpiInterface.calibrateOffsets()\n",
    "    \n",
    "    deviceHandler.acquireSharedZennium(blocking = True)\n",
    "    deviceHandler.switchToEPC()\n",
    "    \n",
    "    deviceHandler.sharedZenniumInterface.calibrateOffsets()"
   ]
  },
  {
   "attachments": {},
   "cell_type": "markdown",
   "metadata": {},
   "source": [
    "After everything has been calibrated, the potentiostat can be switched on."
   ]
  },
  {
   "cell_type": "code",
   "execution_count": null,
   "metadata": {},
   "outputs": [],
   "source": [
    "    deviceHandler.sharedZenniumInterface.setPotentiostatMode(PotentiostatMode.POTMODE_GALVANOSTATIC)\n",
    "    deviceHandler.sharedZenniumInterface.setCurrent(startCurrent)\n",
    "    deviceHandler.sharedZenniumInterface.enablePotentiostat()"
   ]
  },
  {
   "attachments": {},
   "cell_type": "markdown",
   "metadata": {},
   "source": [
    "After switching on in EPC mode, current and voltage are measured in EPC mode and output on the console.\n",
    "\n",
    "Then [switchToSCPIAndReleaseSharedZennium(keepPotentiostatState = True)](https://doc.zahner.de/thales_remote/epc_scpi_handler.html#thales_remote.epc_scpi_handler.EpcScpiHandler.switchToSCPIAndReleaseSharedZennium) switches to SCPI mode without switching off the potentiostat. With this function also the Zennium is released that it could be used by other parallel channels as in the other example.\n",
    "\n",
    "A current and voltage measurement on the SCPI side follows."
   ]
  },
  {
   "cell_type": "code",
   "execution_count": null,
   "metadata": {},
   "outputs": [],
   "source": [
    "    measure_UI_EPC(deviceHandler)\n",
    "    deviceHandler.switchToSCPIAndReleaseSharedZennium(keepPotentiostatState = True)\n",
    "    measure_UI_SCPI(deviceHandler)"
   ]
  },
  {
   "attachments": {},
   "cell_type": "markdown",
   "metadata": {},
   "source": [
    "# EIS and ramps with different currents\n",
    "\n",
    "The class definied in the previous is now used to define the steps for the measurement. For each step the target DC current, the EIS amplitude and the scanrate to set the DC current is defined."
   ]
  },
  {
   "cell_type": "code",
   "execution_count": null,
   "metadata": {},
   "outputs": [],
   "source": [
    "    measurementSettings = [\n",
    "        TargetCurrents(dc = 1, amplitude = 0.1, scanrate=0.1),\n",
    "        TargetCurrents(dc = 2, amplitude = 0.1, scanrate=0.1),\n",
    "        TargetCurrents(dc = 4, amplitude = 0.2, scanrate=0.5)\n",
    "    ]"
   ]
  },
  {
   "attachments": {},
   "cell_type": "markdown",
   "metadata": {},
   "source": [
    "The next step is to iterate over the specified steps with a for loop.\n",
    "\n",
    "In each iteration, exactly the same measurement is performed, but with different parameters from the objects."
   ]
  },
  {
   "cell_type": "code",
   "execution_count": null,
   "metadata": {},
   "outputs": [],
   "source": [
    "    for setting in measurementSettings:"
   ]
  },
  {
   "attachments": {},
   "cell_type": "markdown",
   "metadata": {},
   "source": [
    "The ramp starts at the actual current value therfore the actual current is read and set as value.\n",
    "\n",
    "An online display for the SCPI measurements is also configured and started."
   ]
  },
  {
   "cell_type": "code",
   "execution_count": null,
   "metadata": {},
   "outputs": [],
   "source": [
    "        deviceHandler.scpiInterface.setCurrentValue(deviceHandler.scpiInterface.getCurrent())\n",
    "\n",
    "        configuration = {\n",
    "        \"figureTitle\":f\"Online Display Targetcurrent: {setting.dc} Scanrate: {setting.scanrate}\",\n",
    "        \"xAxisLabel\":\"Time\",\n",
    "        \"xAxisUnit\":\"s\",\n",
    "        \"xTrackName\":TrackTypes.TIME.toString(),\n",
    "        \"yAxis\":\n",
    "            [{\"label\": \"Voltage\", \"unit\": \"V\", \"trackName\":TrackTypes.VOLTAGE.toString()},\n",
    "             {\"label\": \"Current\", \"unit\": \"A\", \"trackName\":TrackTypes.CURRENT.toString()}]\n",
    "        }\n",
    "        onlineDisplay = OnlineDisplay(deviceHandler.scpiInterface.getDataReceiver(), displayConfiguration=configuration)\n",
    "        "
   ]
  },
  {
   "attachments": {},
   "cell_type": "markdown",
   "metadata": {},
   "source": [
    "The values from the current object of the iterator are now entered as parameters for the ramp. Then the ramp is executed."
   ]
  },
  {
   "cell_type": "code",
   "execution_count": null,
   "metadata": {},
   "outputs": [],
   "source": [
    "        deviceHandler.scpiInterface.setCurrentParameter(setting.dc)\n",
    "        deviceHandler.scpiInterface.setScanRateParameter(setting.scanrate)\n",
    "        deviceHandler.scpiInterface.measureRampValueInScanRate()"
   ]
  },
  {
   "attachments": {},
   "cell_type": "markdown",
   "metadata": {},
   "source": [
    "Followed by the ramp, the DC current is held for at least 5 seconds or until the common Zennium is available.\n",
    "\n",
    "In this example, no other devices use the zennium, so it is always available."
   ]
  },
  {
   "cell_type": "code",
   "execution_count": null,
   "metadata": {},
   "outputs": [],
   "source": [
    "        deviceHandler.scpiInterface.setMaximumTimeParameter(5)\n",
    "        deviceHandler.scpiInterface.measurePolarization()\n",
    "        while deviceHandler.acquireSharedZennium(blocking = False) == False:\n",
    "            deviceHandler.scpiInterface.measurePolarization()"
   ]
  },
  {
   "attachments": {},
   "cell_type": "markdown",
   "metadata": {},
   "source": [
    "After the Zennium is acquired, the measurement data is saved with the target current and scan rate as the filename."
   ]
  },
  {
   "cell_type": "code",
   "execution_count": null,
   "metadata": {},
   "outputs": [],
   "source": [
    "        dataManager = DataManager(deviceHandler.scpiInterface.getDataReceiver())\n",
    "        dataManager.saveDataAsText(f\"ramp_to{setting.dc}a_{setting.scanrate}apers.txt\")\n",
    "        \n",
    "        onlineDisplay.close()\n",
    "        del onlineDisplay\n",
    "        del dataManager"
   ]
  },
  {
   "attachments": {},
   "cell_type": "markdown",
   "metadata": {},
   "source": [
    "To switch to EPC control with activated potentiostat for EIS measurement, the method [switchToEPC()](https://doc.zahner.de/thales_remote/epc_scpi_handler.html#thales_remote.epc_scpi_handler.EpcScpiHandler.switchToSCPI) with the parameter *keepPotentiostatState = True* is used.\n",
    "\n",
    "When switching to EPC, it may be the case that the potentiostat is switched off for about 50 ms.\n",
    "\n",
    "Before and after the operation mode switch current and voltage are displayed on the console."
   ]
  },
  {
   "cell_type": "code",
   "execution_count": null,
   "metadata": {},
   "outputs": [],
   "source": [
    "        measure_UI_SCPI(deviceHandler)\n",
    "        deviceHandler.switchToEPC(keepPotentiostatState = True)\n",
    "        measure_UI_EPC(deviceHandler)"
   ]
  },
  {
   "attachments": {},
   "cell_type": "markdown",
   "metadata": {},
   "source": [
    "Afterwards an EIS measurement is setup and executed.\n",
    "\n",
    "The measurement is saved with DC current and amplitude in the filename and is stored by Thales on the hard disk."
   ]
  },
  {
   "cell_type": "code",
   "execution_count": null,
   "metadata": {},
   "outputs": [],
   "source": [
    "        deviceHandler.sharedZenniumInterface.setEISNaming(\"individual\")\n",
    "        deviceHandler.sharedZenniumInterface.setEISOutputPath(r\"C:\\THALES\\temp\")\n",
    "        deviceHandler.sharedZenniumInterface.setEISOutputFileName(f\"{setting.dc}adc_{setting.amplitude}aac\".replace(\".\",\"\"))\n",
    "\n",
    "        deviceHandler.sharedZenniumInterface.setPotentiostatMode(PotentiostatMode.POTMODE_GALVANOSTATIC)\n",
    "        deviceHandler.sharedZenniumInterface.setPotential(setting.dc)\n",
    "        deviceHandler.sharedZenniumInterface.setAmplitude(setting.amplitude)\n",
    "        \n",
    "        deviceHandler.sharedZenniumInterface.setLowerFrequencyLimit(100)\n",
    "        deviceHandler.sharedZenniumInterface.setStartFrequency(250)\n",
    "        deviceHandler.sharedZenniumInterface.setUpperFrequencyLimit(500)\n",
    "        deviceHandler.sharedZenniumInterface.setLowerNumberOfPeriods(5)\n",
    "        deviceHandler.sharedZenniumInterface.setLowerStepsPerDecade(10)\n",
    "        deviceHandler.sharedZenniumInterface.setUpperNumberOfPeriods(20)\n",
    "        deviceHandler.sharedZenniumInterface.setUpperStepsPerDecade(10)\n",
    "        deviceHandler.sharedZenniumInterface.setScanDirection(\"startToMax\")\n",
    "        deviceHandler.sharedZenniumInterface.setScanStrategy(\"single\")\n",
    "        \n",
    "        deviceHandler.sharedZenniumInterface.enablePotentiostat()\n",
    "        deviceHandler.sharedZenniumInterface.measureEIS()\n",
    "        deviceHandler.sharedZenniumInterface.setAmplitude(0)"
   ]
  },
  {
   "attachments": {},
   "cell_type": "markdown",
   "metadata": {},
   "source": [
    "At the end, the system switches back to SCPI mode and the potentiostat is switched off."
   ]
  },
  {
   "cell_type": "code",
   "execution_count": null,
   "metadata": {},
   "outputs": [],
   "source": [
    "        measure_UI_EPC(deviceHandler)\n",
    "        deviceHandler.switchToSCPIAndReleaseSharedZennium(keepPotentiostatState = True)\n",
    "        measure_UI_SCPI(deviceHandler)\n",
    "    \n",
    "    deviceHandler.scpiInterface.setPotentiostatEnabled(False)\n",
    "    handlerFactory.closeAll()\n",
    "    print(\"finish\")"
   ]
  }
 ],
 "metadata": {
  "kernelspec": {
   "display_name": "Python 3.11.1 64-bit",
   "language": "python",
   "name": "python3"
  },
  "language_info": {
   "codemirror_mode": {
    "name": "ipython",
    "version": 3
   },
   "file_extension": ".py",
   "mimetype": "text/x-python",
   "name": "python",
   "nbconvert_exporter": "python",
   "pygments_lexer": "ipython3",
   "version": "3.11.1 (tags/v3.11.1:a7a450f, Dec  6 2022, 19:58:39) [MSC v.1934 64 bit (AMD64)]"
  },
  "orig_nbformat": 4,
  "vscode": {
   "interpreter": {
    "hash": "5238573367df39f7286bb46f9ff5f08f63a01a80960060ce41e3c79b190280fa"
   }
  }
 },
 "nbformat": 4,
 "nbformat_minor": 2
}
