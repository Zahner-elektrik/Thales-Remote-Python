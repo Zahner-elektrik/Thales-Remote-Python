{
 "cells": [
  {
   "cell_type": "markdown",
   "metadata": {},
   "source": [
    "# LabVIEW integration with Python\n",
    "\n",
    "The following documentation shows how to use the Python library thales_remote with LabVIEW:\n",
    "\n",
    "* https://www.ni.com/docs/en-US/bundle/labview-api-ref/page/menus/categories/computer/python-node-mnu.html\n",
    "* https://knowledge.ni.com/KnowledgeArticleDetails?id=kA00Z0000019UFmSAM&l=en-US\n",
    "\n",
    "For this purpose, the module [labview_wrapper.py](labview_wrapper.py) was developed, which makes the methods of the [ThalesRemoteScriptWrapper](https://doc.zahner.de/thales_remote/script_wrapper.html#thales_remote.script_wrapper.ThalesRemoteScriptWrapper) object available as functions. These functions can then be executed by LabVIEW.\n",
    "Only one connection to Thales can be established with a Python session.\n",
    "If several connections are required, for example for the heartbeat, several Python sessions are needed.\n",
    "\n",
    "The vi [thales_remote_python.vi](thales_remote_python.vi) which is located in the repository was created as a proof of concept. This contains a simple GUI with which current or voltage can be set and then read.\n",
    "\n",
    "![frontpanel](frontpanel.png)\n",
    "\n",
    "The following flow is used for the front panel.\n",
    "\n",
    "![flow](flow.png)\n",
    "\n",
    "The example shows how to use the [labview_wrapper.py](labview_wrapper.py). First, the connection to Thales must be initialized with `init()` and an IP adderess and afterwards the [ThalesRemoteScriptWrapper](https://doc.zahner.de/thales_remote/script_wrapper.html#thales_remote.script_wrapper.ThalesRemoteScriptWrapper) object is created.\n",
    "The **methods of this object are then transformed into functions** of the module using `transformMethodsToFunctions()`.\n",
    "\n",
    "These functions can then be executed by LabVIEW, as LabVIEW can not work directly with the object.\n",
    "All methods of the [ThalesRemoteScriptWrapper](https://doc.zahner.de/thales_remote/script_wrapper.html#thales_remote.script_wrapper.ThalesRemoteScriptWrapper) object are available as functions.\n",
    "This is a simplified example with a small range of functions. In principle, almost all examples in this repository can be visualized with LabVIEW.\n",
    "\n",
    "The following code block executes exactly the same as the LabVIEW flow."
   ]
  },
  {
   "cell_type": "code",
   "execution_count": null,
   "metadata": {},
   "outputs": [],
   "source": [
    "import labview_wrapper as wrap\n",
    "\n",
    "wrap.init(\"192.168.2.94\")\n",
    "\n",
    "wrap.transformMethodsToFunctions()\n",
    "\n",
    "wrap.setPotential(1)\n",
    "wrap.setCurrent(10e-9)\n",
    "wrap.setPotentiostatMode(1) # 1 = pot; 2 = gal\n",
    "wrap.enablePotentiostat()\n",
    "print(f\"Current: {wrap.getCurrent()}\")\n",
    "print(f\"Voltage: {wrap.getVoltage()}\")\n",
    "wrap.disablePotentiostat()\n",
    "\n",
    "wrap.disconnect()"
   ]
  },
  {
   "cell_type": "markdown",
   "metadata": {},
   "source": [
    "## Alternative way to integrate\n",
    "\n",
    "We also have a C style DLL for our C++ library that wraps the object orientation, which can be used for LabVIEW.\n",
    "\n",
    "* https://github.com/Zahner-elektrik/Thales-Remote-Cpp/tree/main/ThalesRemoteExternalLibrary\n",
    "* https://github.com/Zahner-elektrik/Thales-Remote-Cpp/blob/main/EisDLLExample/main.cpp"
   ]
  }
 ],
 "metadata": {
  "language_info": {
   "name": "python"
  }
 },
 "nbformat": 4,
 "nbformat_minor": 2
}
