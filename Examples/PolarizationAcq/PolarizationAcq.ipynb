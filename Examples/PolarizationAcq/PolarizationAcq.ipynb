{
 "cells": [
  {
   "cell_type": "markdown",
   "metadata": {},
   "source": [
    "# Multi-channel polarization\n",
    "\n",
    "It is also possible to program simple methods, such as polarisation or current-voltage curves with Python itself in individual steps, instead of using methods from Zahner.\n",
    "\n",
    "This slows down the sampling rate you can achieve, but has the advantage that you can write the data directly to your own file formats."
   ]
  },
  {
   "cell_type": "code",
   "execution_count": 29,
   "metadata": {},
   "outputs": [
    {
     "data": {
      "text/plain": [
       "'128,ScriptRemote,5,6,0,0'"
      ]
     },
     "execution_count": 29,
     "metadata": {},
     "output_type": "execute_result"
    }
   ],
   "source": [
    "import sys\n",
    "import math\n",
    "import cmath\n",
    "from thales_remote.connection import ThalesRemoteConnection\n",
    "from thales_remote.script_wrapper import PotentiostatMode, ThalesRemoteScriptWrapper\n",
    "import datetime\n",
    "import time\n",
    "import csv\n",
    "import re\n",
    "\n",
    "TARGET_HOST = \"10.10.255.211\"\n",
    "\n",
    "zenniumConnection = ThalesRemoteConnection()\n",
    "zenniumConnection.connectToTerm(TARGET_HOST)\n",
    "\n",
    "zahnerZennium = ThalesRemoteScriptWrapper(zenniumConnection)\n",
    "zahnerZennium.forceThalesIntoRemoteScript()"
   ]
  },
  {
   "cell_type": "markdown",
   "metadata": {},
   "source": [
    "# Reading the ACQ setup\n",
    "\n",
    "PAD4 ACQ channels could also be read DC, but for this they must be configured in the GUI and the ACQ setup must be saved. The setting of the PAD4 ACQ channels is explained in the PAD4 manual in chapter 6: https://doc.zahner.de/hardware/pad4.pdf\n",
    "\n",
    "The ACQ setup can be read with [readAcqSetup()](https://doc.zahner.de/thales_remote/script_wrapper.html#thales_remote.script_wrapper.ThalesRemoteScriptWrapper.readAcqSetup).\n",
    "\n",
    "The configured channel names for the file are then read from the setup."
   ]
  },
  {
   "cell_type": "code",
   "execution_count": 30,
   "metadata": {},
   "outputs": [
    {
     "name": "stdout",
     "output_type": "stream",
     "text": [
      "acq configuration\n",
      "setup string from the device:OK;ACQSETUP;INPUTS;4;DISP0;2;PAD4Ch1;DISP1;3;PAD4Ch2;DISP2;4;PAD4Ch3;DISP3;5;PAD4Ch4;OUTPUTS;0;DACS;NONE;ACTIVE CHANNEL=0;ENDSETUP\n",
      "found channels:\n",
      "index:0 channel name:PAD4Ch1\n",
      "index:1 channel name:PAD4Ch2\n",
      "index:2 channel name:PAD4Ch3\n",
      "index:3 channel name:PAD4Ch4\n"
     ]
    }
   ],
   "source": [
    "print(\"acq configuration\")\n",
    "\n",
    "acq_setup = zahnerZennium.readAcqSetup()\n",
    "print(f\"setup string from the device:{acq_setup}\")\n",
    "\n",
    "index_channel_name_regex = r\"DISP(?P<index>[\\d+]);[\\d+];(?P<channel_name>.*?);\"\n",
    "headers_match = re.finditer(index_channel_name_regex, acq_setup)\n",
    "\n",
    "acq_channels = dict()\n",
    "for match in headers_match:\n",
    "    acq_channels[int(match.group(\"index\"))] = match.group(\"channel_name\")\n",
    "\n",
    "print(\"found channels:\")\n",
    "for index, name in acq_channels.items():\n",
    "    print(f\"index:{index} channel name:{name}\")"
   ]
  },
  {
   "cell_type": "markdown",
   "metadata": {},
   "source": [
    "# Execute the constant current polarisation measurement\n",
    "\n",
    "Now the current voltage and the ACQ channels are read out for a specified time at a specified sampling rate.\n",
    "\n",
    "The number of ACQ channels determines the sampling frequency. In this example, reading out the 6 channels takes about 0.65 s."
   ]
  },
  {
   "cell_type": "code",
   "execution_count": 31,
   "metadata": {},
   "outputs": [
    {
     "name": "stdout",
     "output_type": "stream",
     "text": [
      "sample:0/10\n",
      "sample:1/10\n",
      "sample:2/10\n",
      "sample:3/10\n",
      "sample:4/10\n",
      "sample:5/10\n",
      "sample:6/10\n",
      "sample:7/10\n",
      "sample:8/10\n",
      "sample:9/10\n"
     ]
    }
   ],
   "source": [
    "zahnerZennium.calibrateOffsets()\n",
    "zahnerZennium.setPotentiostatMode(PotentiostatMode.POTMODE_GALVANOSTATIC)\n",
    "zahnerZennium.setCurrent(0.1)\n",
    "zahnerZennium.enablePotentiostat()\n",
    "\n",
    "duration = 10.0\n",
    "sampling_frequency = 1.0\n",
    "\n",
    "interval = 1.0 / sampling_frequency\n",
    "samples = int(duration * sampling_frequency)\n",
    "measurements = []\n",
    "start_time = datetime.datetime.now()\n",
    "\n",
    "for sample_index in range(samples):\n",
    "    print(f\"sample:{sample_index}/{samples}\")\n",
    "    loop_start = time.time()\n",
    "\n",
    "    # measure all channels\n",
    "    current_time = datetime.datetime.now()\n",
    "    voltage = zahnerZennium.getPotential()\n",
    "    current = zahnerZennium.getCurrent()\n",
    "    acq_data = zahnerZennium.readAllAcqChannels()\n",
    "\n",
    "    # store the results\n",
    "    measurement = {\n",
    "        \"time\": current_time,\n",
    "        \"voltage\": voltage,\n",
    "        \"current\": current,\n",
    "        \"index\": sample_index,\n",
    "    }\n",
    "\n",
    "    for key, value in acq_data.items():\n",
    "        measurement[key] = value\n",
    "\n",
    "    measurements.append(measurement)\n",
    "\n",
    "    # calculate the waiting time\n",
    "    elapsed = time.time() - loop_start\n",
    "    sleep_time = interval - elapsed\n",
    "\n",
    "    # wait until the next measurement point\n",
    "    if sleep_time > 0:\n",
    "        time.sleep(sleep_time)\n",
    "    else:\n",
    "        print(\"sampling_frequency too high\")"
   ]
  },
  {
   "cell_type": "markdown",
   "metadata": {},
   "source": [
    "# Saving the data in a file\n",
    "\n",
    "After the measurement, the data is written to a file. This could also be done as an alternative during the measurement as an example.\n",
    "The channel designations that were read at the beginning of the example are now entered in the file as a header."
   ]
  },
  {
   "cell_type": "code",
   "execution_count": 32,
   "metadata": {},
   "outputs": [
    {
     "name": "stdout",
     "output_type": "stream",
     "text": [
      "finish\n"
     ]
    }
   ],
   "source": [
    "with open(\"polarization.txt\", \"w\", newline=\"\", encoding=\"utf-8\") as f:\n",
    "    writer = csv.writer(f, delimiter=\"\\t\")\n",
    "\n",
    "    headers = [\"time\", \"voltage\", \"current\"]\n",
    "    headers.extend([f\"{value}\" for key, value in acq_channels.items()])\n",
    "    headers.append(\"index\")\n",
    "\n",
    "    writer.writerow(headers)\n",
    "\n",
    "    for m in measurements:\n",
    "        row = [m[\"time\"].strftime(\"%Y-%m-%d %H:%M:%S.%f\"), m[\"voltage\"], m[\"current\"]]\n",
    "        for key, value in acq_channels.items():\n",
    "            row.append(m[key])\n",
    "        row.append(m[\"index\"])\n",
    "\n",
    "        writer.writerow(row)\n",
    "\n",
    "\n",
    "zahnerZennium.disablePotentiostat()\n",
    "zenniumConnection.disconnectFromTerm()\n",
    "print(\"finish\")"
   ]
  }
 ],
 "metadata": {
  "kernelspec": {
   "display_name": "Python 3",
   "language": "python",
   "name": "python3"
  },
  "language_info": {
   "codemirror_mode": {
    "name": "ipython",
    "version": 3
   },
   "file_extension": ".py",
   "mimetype": "text/x-python",
   "name": "python",
   "nbconvert_exporter": "python",
   "pygments_lexer": "ipython3",
   "version": "3.13.0"
  }
 },
 "nbformat": 4,
 "nbformat_minor": 2
}
